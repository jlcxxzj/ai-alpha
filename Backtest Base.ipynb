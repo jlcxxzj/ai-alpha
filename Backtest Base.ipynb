{
 "cells": [
  {
   "cell_type": "code",
   "execution_count": 1,
   "metadata": {},
   "outputs": [
    {
     "name": "stdout",
     "output_type": "stream",
     "text": [
      "Looking in links: https://files.pythonhosted.org/\n",
      "Requirement already satisfied: numpy==1.16.2 in /Users/yuki/miniconda3/envs/ai-alpha/lib/python3.6/site-packages (from -r requirements_backtest.txt (line 1)) (1.16.2)\n",
      "Requirement already satisfied: pandas==0.24.1 in /Users/yuki/miniconda3/envs/ai-alpha/lib/python3.6/site-packages (from -r requirements_backtest.txt (line 2)) (0.24.1)\n",
      "Requirement already satisfied: matplotlib==2.1.2 in /Users/yuki/miniconda3/envs/ai-alpha/lib/python3.6/site-packages (from -r requirements_backtest.txt (line 3)) (2.1.2)\n",
      "Requirement already satisfied: python-dateutil==2.6.1 in /Users/yuki/miniconda3/envs/ai-alpha/lib/python3.6/site-packages (from -r requirements_backtest.txt (line 4)) (2.6.1)\n",
      "Requirement already satisfied: pytz==2017.3 in /Users/yuki/miniconda3/envs/ai-alpha/lib/python3.6/site-packages (from -r requirements_backtest.txt (line 5)) (2017.3)\n",
      "Requirement already satisfied: scipy==1.0.1 in /Users/yuki/miniconda3/envs/ai-alpha/lib/python3.6/site-packages (from -r requirements_backtest.txt (line 6)) (1.0.1)\n",
      "Requirement already satisfied: scikit-learn==0.23.1 in /Users/yuki/miniconda3/envs/ai-alpha/lib/python3.6/site-packages (from -r requirements_backtest.txt (line 7)) (0.23.1)\n",
      "Requirement already satisfied: six==1.11.0 in /Users/yuki/miniconda3/envs/ai-alpha/lib/python3.6/site-packages (from -r requirements_backtest.txt (line 8)) (1.11.0)\n",
      "Requirement already satisfied: tables==3.3.0 in /Users/yuki/miniconda3/envs/ai-alpha/lib/python3.6/site-packages (from -r requirements_backtest.txt (line 9)) (3.3.0)\n",
      "Requirement already satisfied: tqdm==4.19.5 in /Users/yuki/miniconda3/envs/ai-alpha/lib/python3.6/site-packages (from -r requirements_backtest.txt (line 10)) (4.19.5)\n",
      "Requirement already satisfied: patsy==0.5.1 in /Users/yuki/miniconda3/envs/ai-alpha/lib/python3.6/site-packages (from -r requirements_backtest.txt (line 11)) (0.5.1)\n",
      "Requirement already satisfied: statsmodels==0.9.0 in /Users/yuki/miniconda3/envs/ai-alpha/lib/python3.6/site-packages (from -r requirements_backtest.txt (line 12)) (0.9.0)\n",
      "Requirement already satisfied: pyparsing!=2.0.4,!=2.1.2,!=2.1.6,>=2.0.1 in /Users/yuki/miniconda3/envs/ai-alpha/lib/python3.6/site-packages (from matplotlib==2.1.2->-r requirements_backtest.txt (line 3)) (2.2.0)\n",
      "Requirement already satisfied: cycler>=0.10 in /Users/yuki/miniconda3/envs/ai-alpha/lib/python3.6/site-packages (from matplotlib==2.1.2->-r requirements_backtest.txt (line 3)) (0.10.0)\n",
      "Requirement already satisfied: joblib>=0.11 in /Users/yuki/miniconda3/envs/ai-alpha/lib/python3.6/site-packages (from scikit-learn==0.23.1->-r requirements_backtest.txt (line 7)) (0.16.0)\n",
      "Requirement already satisfied: threadpoolctl>=2.0.0 in /Users/yuki/miniconda3/envs/ai-alpha/lib/python3.6/site-packages (from scikit-learn==0.23.1->-r requirements_backtest.txt (line 7)) (2.1.0)\n",
      "Requirement already satisfied: numexpr>=2.5.2 in /Users/yuki/miniconda3/envs/ai-alpha/lib/python3.6/site-packages (from tables==3.3.0->-r requirements_backtest.txt (line 9)) (2.7.1)\n"
     ]
    }
   ],
   "source": [
    "import sys\n",
    "!{sys.executable} -m pip install -r requirements_backtest.txt"
   ]
  },
  {
   "cell_type": "code",
   "execution_count": 2,
   "metadata": {},
   "outputs": [],
   "source": [
    "import scipy\n",
    "import patsy\n",
    "import pickle\n",
    "\n",
    "import numpy as np\n",
    "import pandas as pd\n",
    "\n",
    "import scipy.sparse\n",
    "import matplotlib.pyplot as plt\n",
    "\n",
    "from statistics import median\n",
    "from scipy.stats import gaussian_kde\n",
    "from statsmodels.formula.api import ols\n",
    "from tqdm import tqdm"
   ]
  },
  {
   "cell_type": "code",
   "execution_count": 3,
   "metadata": {},
   "outputs": [],
   "source": [
    "barra_dir = './data/backtest/'\n",
    "\n",
    "data = {}\n",
    "for year in [2004]:\n",
    "    fil = barra_dir + \"pandas-frames.\" + str(year) + \".pickle\"\n",
    "    data.update(pickle.load( open( fil, \"rb\" ) ))\n",
    "    \n",
    "covariance = {}\n",
    "for year in [2004]:\n",
    "    fil = barra_dir + \"covariance.\" + str(year) + \".pickle\"\n",
    "    covariance.update(pickle.load( open(fil, \"rb\" ) ))\n",
    "    \n",
    "daily_return = {}\n",
    "for year in [2004, 2005]:\n",
    "    fil = barra_dir + \"price.\" + str(year) + \".pickle\"\n",
    "    daily_return.update(pickle.load( open(fil, \"rb\" ) ))"
   ]
  },
  {
   "cell_type": "markdown",
   "metadata": {},
   "source": [
    "## Factors\n",
    "Note that the data fields that start with the prefix U-S-F-A-S-T are factor exposures. Use some of these as alpha factors, and the rest as risk factors. This is becauase, for the time periods of back-testing, some of these factors were able to produce better than average returns. \n",
    "\n",
    "According to the documentation by Barra, these are the barra factor definitions. The industry factors will be used as risk factors, whereas some of style factors can be considered as alpha factors. Any factors not used as alpha factors can be included in the risk factors category.\n",
    "\n",
    "#### Style factors\n",
    "* beta: Describes market risk that cannot be explained by the Country factor. The Beta factor is typically the most important style factor. We calculate Beta by time-series regression of stock excess returns against the market return.\n",
    "* 1 day reversal\n",
    "* dividend yield: Describes differences in stock returns attributable to stock's historical and predicted dividend-to-price ratios.\n",
    "* downside risk (maximum drawdown)\n",
    "* earnings quality:  Describes stock return differences due to the accrual components of earnings.\n",
    "* earnings yield: Describes return differences based on a company’s earnings relative to its price. Earnings Yield is considered by many investors to be a strong value signal. The most important descriptor in this factor is the analyst-predicted 12-month earnings-to-price ratio.\n",
    "* growth: Differentiates stocks based on their prospects for sales or earnings growth. The most important descriptor in this factor is the analyst predicted long-term earnings growth. Other descriptors include sales and earnings growth over the previous five years.\n",
    "* leverage: Describes return differences between high and low-leverage stocks. The descriptors within this style factor include market leverage, book leverage, and debt-to-assets ratio.\n",
    "* liquidity: Describes return differences due to relative trading activity. The descriptors for this factor are based on the fraction of total shares outstanding that trade over a recent window.\n",
    "* long-term reversal: Describes common variation in returns related to a long-term (five years ex. recent thirteen months) stock price behavior.\n",
    "* management quality\n",
    "* Mid capitalization: Describes non-linearity in the payoff to the Size factor across the market-cap spectrum. This factor is based on a single raw descriptor: the cube of the Size exposure. However, because this raw descriptor is highly collinear with the Size factor, it is orthogonalized with respect to Size. This procedure does not affect the fit of the model, but does mitigate the confounding effects of collinearity, while preserving an intuitive meaning for the Size factor. As described by Menchero (2010), the Mid Capitalization factor roughly captures the risk of a “barbell portfolio” that is long mid-cap stocks and short small-cap and large-cap stocks.\n",
    "* Momentum – Differentiates stocks based on their performance over the trailing 12 months. When computing Momentum exposures, we exclude the most recent returns in order to avoid the effects of short-term reversal. The Momentum factor is often the second strongest factor in the model, although sometimes it may surpass Beta in importance.\n",
    "* Profitability – Combines profitability measures that characterize efficiency of a firm's operations and total activities.\n",
    "* Residual Volatility – Measures the idiosyncratic volatility anomaly. It has three descriptors: (a) the volatility of daily excess returns, (b) the volatility of daily residual returns, and (c) the cumulative range of the stock over the last 12 months. Since these descriptors tend to be highly collinear with the Beta factor, the Residual Volatility factor is orthogonalized with respect to the Beta and Size factors.\n",
    "* seasonality\n",
    "* sentiment\n",
    "* Size – Represents a strong source of equity return covariance, and captures return differences between large-cap and small-cap stocks. We measure Size by the log of market capitalization.\n",
    "* Short term reversal\n",
    "* Value\n",
    "* Prospect -- is a function of skewness and maximum drawdown.\n",
    "* Management Quality -- is a function of the following: \n",
    "    * Asset Growth: Annual reported company assets are regressed against time over the past five fiscal years. The slope coefficient is then divided by the average annual assets to obtain the asset growth.\n",
    "    * Issuance Growth Annual reported company number of shares outstanding regressed against time over the past five fiscal years. The slope coefficient is then divided by the average annual number of shares outstanding.\n",
    "    * Capital Expenditure Growth: Annual reported company capital expenditures are regressed against time over the past five fiscal years. The slope coefficient is then divided by the average annual capital expenditures to obtain the capital expenditures growth.\n",
    "    * Capital Expenditure: The most recent capital expenditures are scaled by the average of capital expenditures over the last five fiscal years.\n",
    "\n",
    "\n",
    "\n",
    "#### Industry Factors\n",
    "* aerospace and defense\n",
    "* airlines\n",
    "* aluminum and steel\n",
    "* apparel\n",
    "* Automotive\n",
    "* banks\n",
    "* beta (market)\n",
    "* beverage and tobacco\n",
    "* biotech & life science\n",
    "* building products\n",
    "* chemicals\n",
    "* construction & engineering\n",
    "* construction & machinery\n",
    "* construction materials\n",
    "* commercial equipment\n",
    "* computer & electronics\n",
    "* commercial services\n",
    "* industrial conglomerates\n",
    "* containers (forest, paper, & packaging)\n",
    "* distributors\n",
    "* diversified financials\n",
    "* electrical equipment\n",
    "* electrical utility\n",
    "* food & household products & personal\n",
    "* food & staples retailing\n",
    "* gas & multi-utilities\n",
    "* healthcare equipment and services\n",
    "* health services\n",
    "* home building\n",
    "* household durables\n",
    "* industry machinery\n",
    "* non-life insurance\n",
    "* leisure products\n",
    "* leisure services\n",
    "* life insurance\n",
    "* managed healthcare\n",
    "* multi-utilities\n",
    "* oil & gas conversion\n",
    "* oil & gas drilling\n",
    "* oil & gas equipment\n",
    "* oil and gas export\n",
    "* paper\n",
    "* pharmaceuticals\n",
    "* precious metals\n",
    "* personal products\n",
    "* real estate\n",
    "* restaurants\n",
    "* road & rail\n",
    "* semiconductors\n",
    "* semiconductors equipment\n",
    "* software\n",
    "* telecommunications\n",
    "* transportation\n",
    "* wireless\n",
    "* SPTY\\* and SPLTY\\* are various industries"
   ]
  },
  {
   "cell_type": "code",
   "execution_count": 4,
   "metadata": {},
   "outputs": [
    {
     "data": {
      "text/plain": [
       "Index(['Barrid', 'USFASTD_1DREVRSL', 'USFASTD_AERODEF', 'USFASTD_AIRLINES',\n",
       "       'USFASTD_ALUMSTEL', 'USFASTD_APPAREL', 'USFASTD_AUTO', 'USFASTD_BANKS',\n",
       "       'USFASTD_BETA', 'USFASTD_BEVTOB', 'USFASTD_BIOLIFE', 'USFASTD_BLDGPROD',\n",
       "       'USFASTD_CHEM', 'USFASTD_CNSTENG', 'USFASTD_CNSTMACH',\n",
       "       'USFASTD_CNSTMATL', 'USFASTD_COMMEQP', 'USFASTD_COMPELEC',\n",
       "       'USFASTD_COMSVCS', 'USFASTD_CONGLOM', 'USFASTD_CONTAINR',\n",
       "       'USFASTD_DISTRIB', 'USFASTD_DIVFIN', 'USFASTD_DIVYILD',\n",
       "       'USFASTD_DWNRISK', 'USFASTD_EARNQLTY', 'USFASTD_EARNYILD',\n",
       "       'USFASTD_ELECEQP', 'USFASTD_ELECUTIL', 'USFASTD_FOODPROD',\n",
       "       'USFASTD_FOODRET', 'USFASTD_GASUTIL', 'USFASTD_GROWTH',\n",
       "       'USFASTD_HLTHEQP', 'USFASTD_HLTHSVCS', 'USFASTD_HOMEBLDG',\n",
       "       'USFASTD_HOUSEDUR', 'USFASTD_INDMACH', 'USFASTD_INDMOM',\n",
       "       'USFASTD_INSURNCE', 'USFASTD_INTERNET', 'USFASTD_LEISPROD',\n",
       "       'USFASTD_LEISSVCS', 'USFASTD_LEVERAGE', 'USFASTD_LIFEINS',\n",
       "       'USFASTD_LIQUIDTY', 'USFASTD_LTREVRSL', 'USFASTD_MEDIA',\n",
       "       'USFASTD_MGDHLTH', 'USFASTD_MGMTQLTY', 'USFASTD_MIDCAP',\n",
       "       'USFASTD_MOMENTUM', 'USFASTD_MULTUTIL', 'USFASTD_OILGSCON',\n",
       "       'USFASTD_OILGSDRL', 'USFASTD_OILGSEQP', 'USFASTD_OILGSEXP',\n",
       "       'USFASTD_PAPER', 'USFASTD_PHARMA', 'USFASTD_PRECMTLS', 'USFASTD_PROFIT',\n",
       "       'USFASTD_PROSPECT', 'USFASTD_PSNLPROD', 'USFASTD_REALEST',\n",
       "       'USFASTD_RESTAUR', 'USFASTD_RESVOL', 'USFASTD_ROADRAIL',\n",
       "       'USFASTD_SEASON', 'USFASTD_SEMICOND', 'USFASTD_SEMIEQP',\n",
       "       'USFASTD_SENTMT', 'USFASTD_SIZE', 'USFASTD_SOFTWARE',\n",
       "       'USFASTD_SPLTYRET', 'USFASTD_SPTYCHEM', 'USFASTD_SPTYSTOR',\n",
       "       'USFASTD_STREVRSL', 'USFASTD_TELECOM', 'USFASTD_TRADECO',\n",
       "       'USFASTD_TRANSPRT', 'USFASTD_VALUE', 'USFASTD_WIRELESS', 'BidAskSpread',\n",
       "       'DailyVolume', 'ADTCA_30', 'IssuerMarketCap', 'Yield', 'TotalRisk',\n",
       "       'SpecRisk', 'HistBeta', 'PredBeta', 'DataDate'],\n",
       "      dtype='object')"
      ]
     },
     "execution_count": 4,
     "metadata": {},
     "output_type": "execute_result"
    }
   ],
   "source": [
    "data['20040102'].columns"
   ]
  },
  {
   "cell_type": "code",
   "execution_count": 5,
   "metadata": {
    "scrolled": true
   },
   "outputs": [
    {
     "name": "stdout",
     "output_type": "stream",
     "text": [
      "len(data)        : 252, min(data.keys())        : 20040102, max(data.keys())        : 20041231\n",
      "len(daily_return): 504, min(daily_return.keys()): 20040102, max(daily_return.keys()): 20051230\n",
      "len(covariance)  : 252, min(covariance.keys())  : 20040102, max(covariance.keys())  : 20041231\n"
     ]
    }
   ],
   "source": [
    "print(\"len(data)        : {}, min(data.keys())        : {}, max(data.keys())        : {}\".format(len(data), min(data.keys()), max(data.keys())))\n",
    "print(\"len(daily_return): {}, min(daily_return.keys()): {}, max(daily_return.keys()): {}\".format(len(daily_return), min(daily_return.keys()), max(daily_return.keys())))\n",
    "print(\"len(covariance)  : {}, min(covariance.keys())  : {}, max(covariance.keys())  : {}\".format(len(covariance), min(covariance.keys()), max(covariance.keys())))"
   ]
  },
  {
   "cell_type": "code",
   "execution_count": 6,
   "metadata": {
    "scrolled": true
   },
   "outputs": [
    {
     "data": {
      "text/html": [
       "<div>\n",
       "<style scoped>\n",
       "    .dataframe tbody tr th:only-of-type {\n",
       "        vertical-align: middle;\n",
       "    }\n",
       "\n",
       "    .dataframe tbody tr th {\n",
       "        vertical-align: top;\n",
       "    }\n",
       "\n",
       "    .dataframe thead th {\n",
       "        text-align: right;\n",
       "    }\n",
       "</style>\n",
       "<table border=\"1\" class=\"dataframe\">\n",
       "  <thead>\n",
       "    <tr style=\"text-align: right;\">\n",
       "      <th></th>\n",
       "      <th>Barrid</th>\n",
       "      <th>USFASTD_1DREVRSL</th>\n",
       "      <th>USFASTD_AERODEF</th>\n",
       "      <th>USFASTD_AIRLINES</th>\n",
       "      <th>...</th>\n",
       "      <th>SpecRisk</th>\n",
       "      <th>HistBeta</th>\n",
       "      <th>PredBeta</th>\n",
       "      <th>DataDate</th>\n",
       "    </tr>\n",
       "  </thead>\n",
       "  <tbody>\n",
       "    <tr>\n",
       "      <th>0</th>\n",
       "      <td>USA0001</td>\n",
       "      <td>-0.032</td>\n",
       "      <td>0.000</td>\n",
       "      <td>0.0</td>\n",
       "      <td>...</td>\n",
       "      <td>9.014505</td>\n",
       "      <td>-0.000189</td>\n",
       "      <td>0.156387</td>\n",
       "      <td>20040102</td>\n",
       "    </tr>\n",
       "    <tr>\n",
       "      <th>1</th>\n",
       "      <td>USA0011</td>\n",
       "      <td>-0.059</td>\n",
       "      <td>0.000</td>\n",
       "      <td>0.0</td>\n",
       "      <td>...</td>\n",
       "      <td>11.726327</td>\n",
       "      <td>0.000013</td>\n",
       "      <td>0.147900</td>\n",
       "      <td>20040102</td>\n",
       "    </tr>\n",
       "    <tr>\n",
       "      <th>2</th>\n",
       "      <td>USA0031</td>\n",
       "      <td>0.457</td>\n",
       "      <td>0.000</td>\n",
       "      <td>0.0</td>\n",
       "      <td>...</td>\n",
       "      <td>18.047415</td>\n",
       "      <td>0.053033</td>\n",
       "      <td>0.216422</td>\n",
       "      <td>20040102</td>\n",
       "    </tr>\n",
       "    <tr>\n",
       "      <th>3</th>\n",
       "      <td>USA0062</td>\n",
       "      <td>-0.128</td>\n",
       "      <td>0.431</td>\n",
       "      <td>0.0</td>\n",
       "      <td>...</td>\n",
       "      <td>20.830128</td>\n",
       "      <td>0.079755</td>\n",
       "      <td>0.355564</td>\n",
       "      <td>20040102</td>\n",
       "    </tr>\n",
       "    <tr>\n",
       "      <th>...</th>\n",
       "      <td>...</td>\n",
       "      <td>...</td>\n",
       "      <td>...</td>\n",
       "      <td>...</td>\n",
       "      <td>...</td>\n",
       "      <td>...</td>\n",
       "      <td>...</td>\n",
       "      <td>...</td>\n",
       "      <td>...</td>\n",
       "    </tr>\n",
       "    <tr>\n",
       "      <th>12438</th>\n",
       "      <td>USAZZP1</td>\n",
       "      <td>2.410</td>\n",
       "      <td>0.000</td>\n",
       "      <td>0.0</td>\n",
       "      <td>...</td>\n",
       "      <td>76.269788</td>\n",
       "      <td>0.495782</td>\n",
       "      <td>0.872594</td>\n",
       "      <td>20040102</td>\n",
       "    </tr>\n",
       "    <tr>\n",
       "      <th>12439</th>\n",
       "      <td>USAZZR1</td>\n",
       "      <td>2.120</td>\n",
       "      <td>0.000</td>\n",
       "      <td>0.0</td>\n",
       "      <td>...</td>\n",
       "      <td>34.504433</td>\n",
       "      <td>0.464922</td>\n",
       "      <td>0.853555</td>\n",
       "      <td>20040102</td>\n",
       "    </tr>\n",
       "    <tr>\n",
       "      <th>12440</th>\n",
       "      <td>USAZZX1</td>\n",
       "      <td>-1.522</td>\n",
       "      <td>0.000</td>\n",
       "      <td>0.0</td>\n",
       "      <td>...</td>\n",
       "      <td>123.366131</td>\n",
       "      <td>1.116599</td>\n",
       "      <td>1.320642</td>\n",
       "      <td>20040102</td>\n",
       "    </tr>\n",
       "    <tr>\n",
       "      <th>12441</th>\n",
       "      <td>USAZZY1</td>\n",
       "      <td>-2.405</td>\n",
       "      <td>0.000</td>\n",
       "      <td>0.0</td>\n",
       "      <td>...</td>\n",
       "      <td>22.297109</td>\n",
       "      <td>0.813423</td>\n",
       "      <td>0.911993</td>\n",
       "      <td>20040102</td>\n",
       "    </tr>\n",
       "  </tbody>\n",
       "</table>\n",
       "<p>12442 rows × 92 columns</p>\n",
       "</div>"
      ],
      "text/plain": [
       "        Barrid  USFASTD_1DREVRSL  USFASTD_AERODEF  USFASTD_AIRLINES  ...  \\\n",
       "0      USA0001            -0.032            0.000               0.0  ...   \n",
       "1      USA0011            -0.059            0.000               0.0  ...   \n",
       "2      USA0031             0.457            0.000               0.0  ...   \n",
       "3      USA0062            -0.128            0.431               0.0  ...   \n",
       "...        ...               ...              ...               ...  ...   \n",
       "12438  USAZZP1             2.410            0.000               0.0  ...   \n",
       "12439  USAZZR1             2.120            0.000               0.0  ...   \n",
       "12440  USAZZX1            -1.522            0.000               0.0  ...   \n",
       "12441  USAZZY1            -2.405            0.000               0.0  ...   \n",
       "\n",
       "         SpecRisk  HistBeta  PredBeta  DataDate  \n",
       "0        9.014505 -0.000189  0.156387  20040102  \n",
       "1       11.726327  0.000013  0.147900  20040102  \n",
       "2       18.047415  0.053033  0.216422  20040102  \n",
       "3       20.830128  0.079755  0.355564  20040102  \n",
       "...           ...       ...       ...       ...  \n",
       "12438   76.269788  0.495782  0.872594  20040102  \n",
       "12439   34.504433  0.464922  0.853555  20040102  \n",
       "12440  123.366131  1.116599  1.320642  20040102  \n",
       "12441   22.297109  0.813423  0.911993  20040102  \n",
       "\n",
       "[12442 rows x 92 columns]"
      ]
     },
     "execution_count": 6,
     "metadata": {},
     "output_type": "execute_result"
    }
   ],
   "source": [
    "pd.set_option('display.max_rows', 8)\n",
    "pd.set_option('display.max_columns', 8)\n",
    "data['20040102']"
   ]
  },
  {
   "cell_type": "code",
   "execution_count": 7,
   "metadata": {
    "scrolled": true
   },
   "outputs": [
    {
     "name": "stdout",
     "output_type": "stream",
     "text": [
      "len(daily_return): 504, starting: 20040102, ending: 20051230\n",
      "len(covariance)  : 252, starting: 20040102, ending: 20041231\n"
     ]
    }
   ],
   "source": [
    "print(\"len(daily_return): {}, starting: {}, ending: {}\".format(len(daily_return), min(daily_return.keys()), max(daily_return.keys())))\n",
    "print(\"len(covariance)  : {}, starting: {}, ending: {}\".format(len(covariance), min(covariance.keys()), max(covariance.keys())))"
   ]
  },
  {
   "cell_type": "code",
   "execution_count": 8,
   "metadata": {
    "scrolled": true
   },
   "outputs": [
    {
     "data": {
      "text/html": [
       "<div>\n",
       "<style scoped>\n",
       "    .dataframe tbody tr th:only-of-type {\n",
       "        vertical-align: middle;\n",
       "    }\n",
       "\n",
       "    .dataframe tbody tr th {\n",
       "        vertical-align: top;\n",
       "    }\n",
       "\n",
       "    .dataframe thead th {\n",
       "        text-align: right;\n",
       "    }\n",
       "</style>\n",
       "<table border=\"1\" class=\"dataframe\">\n",
       "  <thead>\n",
       "    <tr style=\"text-align: right;\">\n",
       "      <th></th>\n",
       "      <th>Barrid</th>\n",
       "      <th>DlyReturn</th>\n",
       "    </tr>\n",
       "  </thead>\n",
       "  <tbody>\n",
       "    <tr>\n",
       "      <th>76</th>\n",
       "      <td>USA0001</td>\n",
       "      <td>0.000000</td>\n",
       "    </tr>\n",
       "    <tr>\n",
       "      <th>77</th>\n",
       "      <td>USA0011</td>\n",
       "      <td>0.000000</td>\n",
       "    </tr>\n",
       "    <tr>\n",
       "      <th>78</th>\n",
       "      <td>USA0031</td>\n",
       "      <td>0.000000</td>\n",
       "    </tr>\n",
       "    <tr>\n",
       "      <th>79</th>\n",
       "      <td>USA0062</td>\n",
       "      <td>0.000000</td>\n",
       "    </tr>\n",
       "    <tr>\n",
       "      <th>...</th>\n",
       "      <td>...</td>\n",
       "      <td>...</td>\n",
       "    </tr>\n",
       "    <tr>\n",
       "      <th>12514</th>\n",
       "      <td>USAZZP1</td>\n",
       "      <td>0.000000</td>\n",
       "    </tr>\n",
       "    <tr>\n",
       "      <th>12515</th>\n",
       "      <td>USAZZR1</td>\n",
       "      <td>0.000000</td>\n",
       "    </tr>\n",
       "    <tr>\n",
       "      <th>12516</th>\n",
       "      <td>USAZZX1</td>\n",
       "      <td>0.111111</td>\n",
       "    </tr>\n",
       "    <tr>\n",
       "      <th>12517</th>\n",
       "      <td>USAZZY1</td>\n",
       "      <td>0.008149</td>\n",
       "    </tr>\n",
       "  </tbody>\n",
       "</table>\n",
       "<p>12442 rows × 2 columns</p>\n",
       "</div>"
      ],
      "text/plain": [
       "        Barrid  DlyReturn\n",
       "76     USA0001   0.000000\n",
       "77     USA0011   0.000000\n",
       "78     USA0031   0.000000\n",
       "79     USA0062   0.000000\n",
       "...        ...        ...\n",
       "12514  USAZZP1   0.000000\n",
       "12515  USAZZR1   0.000000\n",
       "12516  USAZZX1   0.111111\n",
       "12517  USAZZY1   0.008149\n",
       "\n",
       "[12442 rows x 2 columns]"
      ]
     },
     "execution_count": 8,
     "metadata": {},
     "output_type": "execute_result"
    }
   ],
   "source": [
    "daily_return['20040102']"
   ]
  },
  {
   "cell_type": "code",
   "execution_count": 9,
   "metadata": {},
   "outputs": [
    {
     "data": {
      "text/html": [
       "<div>\n",
       "<style scoped>\n",
       "    .dataframe tbody tr th:only-of-type {\n",
       "        vertical-align: middle;\n",
       "    }\n",
       "\n",
       "    .dataframe tbody tr th {\n",
       "        vertical-align: top;\n",
       "    }\n",
       "\n",
       "    .dataframe thead th {\n",
       "        text-align: right;\n",
       "    }\n",
       "</style>\n",
       "<table border=\"1\" class=\"dataframe\">\n",
       "  <thead>\n",
       "    <tr style=\"text-align: right;\">\n",
       "      <th></th>\n",
       "      <th>Factor1</th>\n",
       "      <th>Factor2</th>\n",
       "      <th>VarCovar</th>\n",
       "      <th>DataDate</th>\n",
       "    </tr>\n",
       "  </thead>\n",
       "  <tbody>\n",
       "    <tr>\n",
       "      <th>0</th>\n",
       "      <td>USFASTD_1DREVRSL</td>\n",
       "      <td>USFASTD_1DREVRSL</td>\n",
       "      <td>1.958869</td>\n",
       "      <td>20040102</td>\n",
       "    </tr>\n",
       "    <tr>\n",
       "      <th>1</th>\n",
       "      <td>USFASTD_1DREVRSL</td>\n",
       "      <td>USFASTD_BETA</td>\n",
       "      <td>1.602458</td>\n",
       "      <td>20040102</td>\n",
       "    </tr>\n",
       "    <tr>\n",
       "      <th>2</th>\n",
       "      <td>USFASTD_1DREVRSL</td>\n",
       "      <td>USFASTD_DIVYILD</td>\n",
       "      <td>-0.012642</td>\n",
       "      <td>20040102</td>\n",
       "    </tr>\n",
       "    <tr>\n",
       "      <th>3</th>\n",
       "      <td>USFASTD_1DREVRSL</td>\n",
       "      <td>USFASTD_DWNRISK</td>\n",
       "      <td>-0.064387</td>\n",
       "      <td>20040102</td>\n",
       "    </tr>\n",
       "    <tr>\n",
       "      <th>...</th>\n",
       "      <td>...</td>\n",
       "      <td>...</td>\n",
       "      <td>...</td>\n",
       "      <td>...</td>\n",
       "    </tr>\n",
       "    <tr>\n",
       "      <th>3566</th>\n",
       "      <td>USFASTD_GASUTIL</td>\n",
       "      <td>USFASTD_COUNTRY</td>\n",
       "      <td>-8.627009</td>\n",
       "      <td>20040102</td>\n",
       "    </tr>\n",
       "    <tr>\n",
       "      <th>3567</th>\n",
       "      <td>USFASTD_MULTUTIL</td>\n",
       "      <td>USFASTD_MULTUTIL</td>\n",
       "      <td>222.686570</td>\n",
       "      <td>20040102</td>\n",
       "    </tr>\n",
       "    <tr>\n",
       "      <th>3568</th>\n",
       "      <td>USFASTD_MULTUTIL</td>\n",
       "      <td>USFASTD_COUNTRY</td>\n",
       "      <td>-9.925801</td>\n",
       "      <td>20040102</td>\n",
       "    </tr>\n",
       "    <tr>\n",
       "      <th>3569</th>\n",
       "      <td>USFASTD_COUNTRY</td>\n",
       "      <td>USFASTD_COUNTRY</td>\n",
       "      <td>190.504751</td>\n",
       "      <td>20040102</td>\n",
       "    </tr>\n",
       "  </tbody>\n",
       "</table>\n",
       "<p>3570 rows × 4 columns</p>\n",
       "</div>"
      ],
      "text/plain": [
       "               Factor1           Factor2    VarCovar  DataDate\n",
       "0     USFASTD_1DREVRSL  USFASTD_1DREVRSL    1.958869  20040102\n",
       "1     USFASTD_1DREVRSL      USFASTD_BETA    1.602458  20040102\n",
       "2     USFASTD_1DREVRSL   USFASTD_DIVYILD   -0.012642  20040102\n",
       "3     USFASTD_1DREVRSL   USFASTD_DWNRISK   -0.064387  20040102\n",
       "...                ...               ...         ...       ...\n",
       "3566   USFASTD_GASUTIL   USFASTD_COUNTRY   -8.627009  20040102\n",
       "3567  USFASTD_MULTUTIL  USFASTD_MULTUTIL  222.686570  20040102\n",
       "3568  USFASTD_MULTUTIL   USFASTD_COUNTRY   -9.925801  20040102\n",
       "3569   USFASTD_COUNTRY   USFASTD_COUNTRY  190.504751  20040102\n",
       "\n",
       "[3570 rows x 4 columns]"
      ]
     },
     "execution_count": 9,
     "metadata": {},
     "output_type": "execute_result"
    }
   ],
   "source": [
    "covariance['20040102']"
   ]
  },
  {
   "cell_type": "markdown",
   "metadata": {},
   "source": [
    "Realistically, there will be a time delay in live trading as PnL is reported for the date of returns.\n",
    " - T+0 EOD Factors -> Decide trading\n",
    " - T+1 Trade execution on T+1 Price/Market\n",
    " - T+2 Calculate returns on EOD Price\n",
    "\n",
    "Thus, frame[T+2] contains factor data as of T and the return of T+2.\n",
    "\n",
    "The negative impact of the continuous trade executions on the return date [T+2]  based on the trading decisions on T+1 will be factored in to Transaction Cost."
   ]
  },
  {
   "cell_type": "code",
   "execution_count": 10,
   "metadata": {
    "scrolled": true
   },
   "outputs": [
    {
     "name": "stdout",
     "output_type": "stream",
     "text": [
      "20050104\n"
     ]
    }
   ],
   "source": [
    "# Create a frame with two days delay\n",
    "frames ={}\n",
    "n_days_delay = 2\n",
    "\n",
    "for (data_keys, return_keys) in zip(sorted(list(data.keys())), sorted(list(daily_return.keys()))[n_days_delay:]):\n",
    "    frames[return_keys] = data[data_keys].merge(daily_return[return_keys])\n",
    "    n_rows = frames[return_keys].shape[0]    \n",
    "    frames[return_keys]['DlyReturnDate'] = pd.Series([return_keys]*n_rows)\n",
    "\n",
    "print(return_keys)"
   ]
  },
  {
   "cell_type": "code",
   "execution_count": 11,
   "metadata": {},
   "outputs": [
    {
     "data": {
      "text/html": [
       "<div>\n",
       "<style scoped>\n",
       "    .dataframe tbody tr th:only-of-type {\n",
       "        vertical-align: middle;\n",
       "    }\n",
       "\n",
       "    .dataframe tbody tr th {\n",
       "        vertical-align: top;\n",
       "    }\n",
       "\n",
       "    .dataframe thead th {\n",
       "        text-align: right;\n",
       "    }\n",
       "</style>\n",
       "<table border=\"1\" class=\"dataframe\">\n",
       "  <thead>\n",
       "    <tr style=\"text-align: right;\">\n",
       "      <th></th>\n",
       "      <th>Barrid</th>\n",
       "      <th>USFASTD_1DREVRSL</th>\n",
       "      <th>USFASTD_AERODEF</th>\n",
       "      <th>USFASTD_AIRLINES</th>\n",
       "      <th>...</th>\n",
       "      <th>PredBeta</th>\n",
       "      <th>DataDate</th>\n",
       "      <th>DlyReturn</th>\n",
       "      <th>DlyReturnDate</th>\n",
       "    </tr>\n",
       "  </thead>\n",
       "  <tbody>\n",
       "    <tr>\n",
       "      <th>0</th>\n",
       "      <td>USA0001</td>\n",
       "      <td>-0.416</td>\n",
       "      <td>0.0</td>\n",
       "      <td>0.0</td>\n",
       "      <td>...</td>\n",
       "      <td>0.074234</td>\n",
       "      <td>20041228</td>\n",
       "      <td>0.000000</td>\n",
       "      <td>20041230</td>\n",
       "    </tr>\n",
       "    <tr>\n",
       "      <th>1</th>\n",
       "      <td>USA0011</td>\n",
       "      <td>-0.006</td>\n",
       "      <td>0.0</td>\n",
       "      <td>0.0</td>\n",
       "      <td>...</td>\n",
       "      <td>0.053198</td>\n",
       "      <td>20041228</td>\n",
       "      <td>0.000000</td>\n",
       "      <td>20041230</td>\n",
       "    </tr>\n",
       "    <tr>\n",
       "      <th>...</th>\n",
       "      <td>...</td>\n",
       "      <td>...</td>\n",
       "      <td>...</td>\n",
       "      <td>...</td>\n",
       "      <td>...</td>\n",
       "      <td>...</td>\n",
       "      <td>...</td>\n",
       "      <td>...</td>\n",
       "      <td>...</td>\n",
       "    </tr>\n",
       "    <tr>\n",
       "      <th>12429</th>\n",
       "      <td>USAZZY1</td>\n",
       "      <td>1.470</td>\n",
       "      <td>0.0</td>\n",
       "      <td>0.0</td>\n",
       "      <td>...</td>\n",
       "      <td>1.431251</td>\n",
       "      <td>20041228</td>\n",
       "      <td>0.007249</td>\n",
       "      <td>20041230</td>\n",
       "    </tr>\n",
       "    <tr>\n",
       "      <th>12430</th>\n",
       "      <td>USAZZZ1</td>\n",
       "      <td>-1.621</td>\n",
       "      <td>0.0</td>\n",
       "      <td>0.0</td>\n",
       "      <td>...</td>\n",
       "      <td>0.204547</td>\n",
       "      <td>20041228</td>\n",
       "      <td>0.012373</td>\n",
       "      <td>20041230</td>\n",
       "    </tr>\n",
       "  </tbody>\n",
       "</table>\n",
       "<p>12431 rows × 94 columns</p>\n",
       "</div>"
      ],
      "text/plain": [
       "        Barrid  USFASTD_1DREVRSL  USFASTD_AERODEF  USFASTD_AIRLINES  ...  \\\n",
       "0      USA0001            -0.416              0.0               0.0  ...   \n",
       "1      USA0011            -0.006              0.0               0.0  ...   \n",
       "...        ...               ...              ...               ...  ...   \n",
       "12429  USAZZY1             1.470              0.0               0.0  ...   \n",
       "12430  USAZZZ1            -1.621              0.0               0.0  ...   \n",
       "\n",
       "       PredBeta  DataDate  DlyReturn  DlyReturnDate  \n",
       "0      0.074234  20041228   0.000000       20041230  \n",
       "1      0.053198  20041228   0.000000       20041230  \n",
       "...         ...       ...        ...            ...  \n",
       "12429  1.431251  20041228   0.007249       20041230  \n",
       "12430  0.204547  20041228   0.012373       20041230  \n",
       "\n",
       "[12431 rows x 94 columns]"
      ]
     },
     "execution_count": 11,
     "metadata": {},
     "output_type": "execute_result"
    }
   ],
   "source": [
    "pd.set_option('display.max_rows', 4)\n",
    "frames['20041230']"
   ]
  },
  {
   "cell_type": "markdown",
   "metadata": {},
   "source": [
    "## Winsorize\n",
    "Clip the data to avoid extremely positive or negative values to handle noise causing unusually large positions"
   ]
  },
  {
   "cell_type": "code",
   "execution_count": 12,
   "metadata": {
    "scrolled": true
   },
   "outputs": [],
   "source": [
    "def wins(x,a,b):\n",
    "    return np.where(x <= a,a, np.where(x >= b, b, x))"
   ]
  },
  {
   "cell_type": "markdown",
   "metadata": {},
   "source": [
    "## Density Plot"
   ]
  },
  {
   "cell_type": "code",
   "execution_count": 13,
   "metadata": {},
   "outputs": [
    {
     "data": {
      "image/png": "[encoded data removed]",
      "text/plain": [
       "<matplotlib.figure.Figure at 0x7ff93f34be10>"
      ]
     },
     "metadata": {
      "needs_background": "light"
     },
     "output_type": "display_data"
    },
    {
     "data": {
      "image/png": "[encoded data removed]",
      "text/plain": [
       "<matplotlib.figure.Figure at 0x7ff9249a7f28>"
      ]
     },
     "metadata": {
      "needs_background": "light"
     },
     "output_type": "display_data"
    }
   ],
   "source": [
    "def density_plot(data): \n",
    "    density = gaussian_kde(data)\n",
    "    xs = np.linspace(np.min(data),np.max(data),200)\n",
    "    density.covariance_factor = lambda : .25\n",
    "    density._compute_covariance()\n",
    "    plt.plot(xs,density(xs))\n",
    "    plt.xlabel('Daily Returns')\n",
    "    plt.ylabel('Density')\n",
    "    plt.show()\n",
    "    \n",
    "test = frames['20040108']\n",
    "density_plot(test['DlyReturn'])\n",
    "test['DlyReturn'] = wins(test['DlyReturn'],-0.1,0.1)\n",
    "density_plot(test['DlyReturn'])"
   ]
  },
  {
   "cell_type": "code",
   "execution_count": 14,
   "metadata": {},
   "outputs": [],
   "source": [
    "def impute_specrisk(df):\n",
    "    df.loc[df['SpecRisk'] == 0]['SpecRisk'] = median(df['SpecRisk'])\n",
    "    return df"
   ]
  },
  {
   "cell_type": "markdown",
   "metadata": {},
   "source": [
    "## Factor Exposures and Factor Returns\n",
    "use the Ordinary Least Squares (OLS) method to estimate the factor exposures, $f_{j,t}$, by using $\\beta_{i,j,t-2}$ as the independent variable, and $r_{i,t}$ as the dependent variable.\n",
    "\n",
    "$r_{i,t} = \\sum_{j=1}^{k} (\\beta_{i,j,t-2} \\times f_{j,t})$  \n",
    "where $i=1...N$ (N assets),   \n",
    "and $j=1...k$ (k factors).\n",
    "\n",
    "where $r_{i,t}$ is the return, $\\beta_{i,j,t-2}$ is the factor exposure, and $f_{j,t}$ is the factor return."
   ]
  },
  {
   "cell_type": "code",
   "execution_count": 15,
   "metadata": {},
   "outputs": [],
   "source": [
    "def get_formula(factors, Y):\n",
    "    L = [\"0\"]\n",
    "    L.extend(factors)\n",
    "    return Y + \" ~ \" + \" + \".join(L)\n",
    "\n",
    "def factors_from_names(n):\n",
    "    return list(filter(lambda x: \"USFASTD_\" in x, n))\n",
    "\n",
    "def estimate_factor_returns(df): \n",
    "    ## build universe based on filters \n",
    "    estu = df.loc[df.IssuerMarketCap > 1e9].copy(deep=True)\n",
    "  \n",
    "    ## winsorize returns for fitting \n",
    "    estu['DlyReturn'] = wins(estu['DlyReturn'], -0.25, 0.25)\n",
    "  \n",
    "    all_factors = factors_from_names(list(df))\n",
    "    form = get_formula(all_factors, \"DlyReturn\")\n",
    "    model = ols(form, data=estu)\n",
    "    results = model.fit()\n",
    "    return results"
   ]
  },
  {
   "cell_type": "code",
   "execution_count": 16,
   "metadata": {},
   "outputs": [],
   "source": [
    "facret = {}\n",
    "\n",
    "for date in frames:\n",
    "    facret[date] = estimate_factor_returns(frames[date]).params"
   ]
  },
  {
   "cell_type": "code",
   "execution_count": 17,
   "metadata": {},
   "outputs": [
    {
     "data": {
      "text/plain": [
       "USFASTD_1DREVRSL    0.000611\n",
       "USFASTD_AERODEF     0.002680\n",
       "                      ...   \n",
       "USFASTD_VALUE       0.001045\n",
       "USFASTD_WIRELESS    0.007518\n",
       "Length: 81, dtype: float64"
      ]
     },
     "execution_count": 17,
     "metadata": {},
     "output_type": "execute_result"
    }
   ],
   "source": [
    "facret['20041230']"
   ]
  },
  {
   "cell_type": "code",
   "execution_count": 18,
   "metadata": {},
   "outputs": [
    {
     "data": {
      "text/plain": [
       "[Timestamp('2004-01-06 00:00:00'),\n",
       " Timestamp('2004-01-07 00:00:00'),\n",
       " Timestamp('2004-01-08 00:00:00'),\n",
       " Timestamp('2004-01-09 00:00:00'),\n",
       " Timestamp('2004-01-12 00:00:00'),\n",
       " Timestamp('2004-01-13 00:00:00'),\n",
       " Timestamp('2004-01-14 00:00:00'),\n",
       " Timestamp('2004-01-15 00:00:00'),\n",
       " Timestamp('2004-01-16 00:00:00'),\n",
       " Timestamp('2004-01-20 00:00:00'),\n",
       " Timestamp('2004-01-21 00:00:00'),\n",
       " Timestamp('2004-01-22 00:00:00'),\n",
       " Timestamp('2004-01-23 00:00:00'),\n",
       " Timestamp('2004-01-26 00:00:00'),\n",
       " Timestamp('2004-01-27 00:00:00'),\n",
       " Timestamp('2004-01-28 00:00:00'),\n",
       " Timestamp('2004-01-29 00:00:00'),\n",
       " Timestamp('2004-01-30 00:00:00'),\n",
       " Timestamp('2004-02-02 00:00:00'),\n",
       " Timestamp('2004-02-03 00:00:00'),\n",
       " Timestamp('2004-02-04 00:00:00'),\n",
       " Timestamp('2004-02-05 00:00:00'),\n",
       " Timestamp('2004-02-06 00:00:00'),\n",
       " Timestamp('2004-02-09 00:00:00'),\n",
       " Timestamp('2004-02-10 00:00:00'),\n",
       " Timestamp('2004-02-11 00:00:00'),\n",
       " Timestamp('2004-02-12 00:00:00'),\n",
       " Timestamp('2004-02-13 00:00:00'),\n",
       " Timestamp('2004-02-17 00:00:00'),\n",
       " Timestamp('2004-02-18 00:00:00'),\n",
       " Timestamp('2004-02-19 00:00:00'),\n",
       " Timestamp('2004-02-20 00:00:00'),\n",
       " Timestamp('2004-02-23 00:00:00'),\n",
       " Timestamp('2004-02-24 00:00:00'),\n",
       " Timestamp('2004-02-25 00:00:00'),\n",
       " Timestamp('2004-02-26 00:00:00'),\n",
       " Timestamp('2004-02-27 00:00:00'),\n",
       " Timestamp('2004-03-01 00:00:00'),\n",
       " Timestamp('2004-03-02 00:00:00'),\n",
       " Timestamp('2004-03-03 00:00:00'),\n",
       " Timestamp('2004-03-04 00:00:00'),\n",
       " Timestamp('2004-03-05 00:00:00'),\n",
       " Timestamp('2004-03-08 00:00:00'),\n",
       " Timestamp('2004-03-09 00:00:00'),\n",
       " Timestamp('2004-03-10 00:00:00'),\n",
       " Timestamp('2004-03-11 00:00:00'),\n",
       " Timestamp('2004-03-12 00:00:00'),\n",
       " Timestamp('2004-03-15 00:00:00'),\n",
       " Timestamp('2004-03-16 00:00:00'),\n",
       " Timestamp('2004-03-17 00:00:00'),\n",
       " Timestamp('2004-03-18 00:00:00'),\n",
       " Timestamp('2004-03-19 00:00:00'),\n",
       " Timestamp('2004-03-22 00:00:00'),\n",
       " Timestamp('2004-03-23 00:00:00'),\n",
       " Timestamp('2004-03-24 00:00:00'),\n",
       " Timestamp('2004-03-25 00:00:00'),\n",
       " Timestamp('2004-03-26 00:00:00'),\n",
       " Timestamp('2004-03-29 00:00:00'),\n",
       " Timestamp('2004-03-30 00:00:00'),\n",
       " Timestamp('2004-03-31 00:00:00'),\n",
       " Timestamp('2004-04-01 00:00:00'),\n",
       " Timestamp('2004-04-02 00:00:00'),\n",
       " Timestamp('2004-04-05 00:00:00'),\n",
       " Timestamp('2004-04-06 00:00:00'),\n",
       " Timestamp('2004-04-07 00:00:00'),\n",
       " Timestamp('2004-04-08 00:00:00'),\n",
       " Timestamp('2004-04-12 00:00:00'),\n",
       " Timestamp('2004-04-13 00:00:00'),\n",
       " Timestamp('2004-04-14 00:00:00'),\n",
       " Timestamp('2004-04-15 00:00:00'),\n",
       " Timestamp('2004-04-16 00:00:00'),\n",
       " Timestamp('2004-04-19 00:00:00'),\n",
       " Timestamp('2004-04-20 00:00:00'),\n",
       " Timestamp('2004-04-21 00:00:00'),\n",
       " Timestamp('2004-04-22 00:00:00'),\n",
       " Timestamp('2004-04-23 00:00:00'),\n",
       " Timestamp('2004-04-26 00:00:00'),\n",
       " Timestamp('2004-04-27 00:00:00'),\n",
       " Timestamp('2004-04-28 00:00:00'),\n",
       " Timestamp('2004-04-29 00:00:00'),\n",
       " Timestamp('2004-04-30 00:00:00'),\n",
       " Timestamp('2004-05-03 00:00:00'),\n",
       " Timestamp('2004-05-04 00:00:00'),\n",
       " Timestamp('2004-05-05 00:00:00'),\n",
       " Timestamp('2004-05-06 00:00:00'),\n",
       " Timestamp('2004-05-07 00:00:00'),\n",
       " Timestamp('2004-05-10 00:00:00'),\n",
       " Timestamp('2004-05-11 00:00:00'),\n",
       " Timestamp('2004-05-12 00:00:00'),\n",
       " Timestamp('2004-05-13 00:00:00'),\n",
       " Timestamp('2004-05-14 00:00:00'),\n",
       " Timestamp('2004-05-17 00:00:00'),\n",
       " Timestamp('2004-05-18 00:00:00'),\n",
       " Timestamp('2004-05-19 00:00:00'),\n",
       " Timestamp('2004-05-20 00:00:00'),\n",
       " Timestamp('2004-05-21 00:00:00'),\n",
       " Timestamp('2004-05-24 00:00:00'),\n",
       " Timestamp('2004-05-25 00:00:00'),\n",
       " Timestamp('2004-05-26 00:00:00'),\n",
       " Timestamp('2004-05-27 00:00:00'),\n",
       " Timestamp('2004-05-28 00:00:00'),\n",
       " Timestamp('2004-06-01 00:00:00'),\n",
       " Timestamp('2004-06-02 00:00:00'),\n",
       " Timestamp('2004-06-03 00:00:00'),\n",
       " Timestamp('2004-06-04 00:00:00'),\n",
       " Timestamp('2004-06-07 00:00:00'),\n",
       " Timestamp('2004-06-08 00:00:00'),\n",
       " Timestamp('2004-06-09 00:00:00'),\n",
       " Timestamp('2004-06-10 00:00:00'),\n",
       " Timestamp('2004-06-14 00:00:00'),\n",
       " Timestamp('2004-06-15 00:00:00'),\n",
       " Timestamp('2004-06-16 00:00:00'),\n",
       " Timestamp('2004-06-17 00:00:00'),\n",
       " Timestamp('2004-06-18 00:00:00'),\n",
       " Timestamp('2004-06-21 00:00:00'),\n",
       " Timestamp('2004-06-22 00:00:00'),\n",
       " Timestamp('2004-06-23 00:00:00'),\n",
       " Timestamp('2004-06-24 00:00:00'),\n",
       " Timestamp('2004-06-25 00:00:00'),\n",
       " Timestamp('2004-06-28 00:00:00'),\n",
       " Timestamp('2004-06-29 00:00:00'),\n",
       " Timestamp('2004-06-30 00:00:00'),\n",
       " Timestamp('2004-07-01 00:00:00'),\n",
       " Timestamp('2004-07-02 00:00:00'),\n",
       " Timestamp('2004-07-06 00:00:00'),\n",
       " Timestamp('2004-07-07 00:00:00'),\n",
       " Timestamp('2004-07-08 00:00:00'),\n",
       " Timestamp('2004-07-09 00:00:00'),\n",
       " Timestamp('2004-07-12 00:00:00'),\n",
       " Timestamp('2004-07-13 00:00:00'),\n",
       " Timestamp('2004-07-14 00:00:00'),\n",
       " Timestamp('2004-07-15 00:00:00'),\n",
       " Timestamp('2004-07-16 00:00:00'),\n",
       " Timestamp('2004-07-19 00:00:00'),\n",
       " Timestamp('2004-07-20 00:00:00'),\n",
       " Timestamp('2004-07-21 00:00:00'),\n",
       " Timestamp('2004-07-22 00:00:00'),\n",
       " Timestamp('2004-07-23 00:00:00'),\n",
       " Timestamp('2004-07-26 00:00:00'),\n",
       " Timestamp('2004-07-27 00:00:00'),\n",
       " Timestamp('2004-07-28 00:00:00'),\n",
       " Timestamp('2004-07-29 00:00:00'),\n",
       " Timestamp('2004-07-30 00:00:00'),\n",
       " Timestamp('2004-08-02 00:00:00'),\n",
       " Timestamp('2004-08-03 00:00:00'),\n",
       " Timestamp('2004-08-04 00:00:00'),\n",
       " Timestamp('2004-08-05 00:00:00'),\n",
       " Timestamp('2004-08-06 00:00:00'),\n",
       " Timestamp('2004-08-09 00:00:00'),\n",
       " Timestamp('2004-08-10 00:00:00'),\n",
       " Timestamp('2004-08-11 00:00:00'),\n",
       " Timestamp('2004-08-12 00:00:00'),\n",
       " Timestamp('2004-08-13 00:00:00'),\n",
       " Timestamp('2004-08-16 00:00:00'),\n",
       " Timestamp('2004-08-17 00:00:00'),\n",
       " Timestamp('2004-08-18 00:00:00'),\n",
       " Timestamp('2004-08-19 00:00:00'),\n",
       " Timestamp('2004-08-20 00:00:00'),\n",
       " Timestamp('2004-08-23 00:00:00'),\n",
       " Timestamp('2004-08-24 00:00:00'),\n",
       " Timestamp('2004-08-25 00:00:00'),\n",
       " Timestamp('2004-08-26 00:00:00'),\n",
       " Timestamp('2004-08-27 00:00:00'),\n",
       " Timestamp('2004-08-30 00:00:00'),\n",
       " Timestamp('2004-08-31 00:00:00'),\n",
       " Timestamp('2004-09-01 00:00:00'),\n",
       " Timestamp('2004-09-02 00:00:00'),\n",
       " Timestamp('2004-09-03 00:00:00'),\n",
       " Timestamp('2004-09-07 00:00:00'),\n",
       " Timestamp('2004-09-08 00:00:00'),\n",
       " Timestamp('2004-09-09 00:00:00'),\n",
       " Timestamp('2004-09-10 00:00:00'),\n",
       " Timestamp('2004-09-13 00:00:00'),\n",
       " Timestamp('2004-09-14 00:00:00'),\n",
       " Timestamp('2004-09-15 00:00:00'),\n",
       " Timestamp('2004-09-16 00:00:00'),\n",
       " Timestamp('2004-09-17 00:00:00'),\n",
       " Timestamp('2004-09-20 00:00:00'),\n",
       " Timestamp('2004-09-21 00:00:00'),\n",
       " Timestamp('2004-09-22 00:00:00'),\n",
       " Timestamp('2004-09-23 00:00:00'),\n",
       " Timestamp('2004-09-24 00:00:00'),\n",
       " Timestamp('2004-09-27 00:00:00'),\n",
       " Timestamp('2004-09-28 00:00:00'),\n",
       " Timestamp('2004-09-29 00:00:00'),\n",
       " Timestamp('2004-09-30 00:00:00'),\n",
       " Timestamp('2004-10-01 00:00:00'),\n",
       " Timestamp('2004-10-04 00:00:00'),\n",
       " Timestamp('2004-10-05 00:00:00'),\n",
       " Timestamp('2004-10-06 00:00:00'),\n",
       " Timestamp('2004-10-07 00:00:00'),\n",
       " Timestamp('2004-10-08 00:00:00'),\n",
       " Timestamp('2004-10-11 00:00:00'),\n",
       " Timestamp('2004-10-12 00:00:00'),\n",
       " Timestamp('2004-10-13 00:00:00'),\n",
       " Timestamp('2004-10-14 00:00:00'),\n",
       " Timestamp('2004-10-15 00:00:00'),\n",
       " Timestamp('2004-10-18 00:00:00'),\n",
       " Timestamp('2004-10-19 00:00:00'),\n",
       " Timestamp('2004-10-20 00:00:00'),\n",
       " Timestamp('2004-10-21 00:00:00'),\n",
       " Timestamp('2004-10-22 00:00:00'),\n",
       " Timestamp('2004-10-25 00:00:00'),\n",
       " Timestamp('2004-10-26 00:00:00'),\n",
       " Timestamp('2004-10-27 00:00:00'),\n",
       " Timestamp('2004-10-28 00:00:00'),\n",
       " Timestamp('2004-10-29 00:00:00'),\n",
       " Timestamp('2004-11-01 00:00:00'),\n",
       " Timestamp('2004-11-02 00:00:00'),\n",
       " Timestamp('2004-11-03 00:00:00'),\n",
       " Timestamp('2004-11-04 00:00:00'),\n",
       " Timestamp('2004-11-05 00:00:00'),\n",
       " Timestamp('2004-11-08 00:00:00'),\n",
       " Timestamp('2004-11-09 00:00:00'),\n",
       " Timestamp('2004-11-10 00:00:00'),\n",
       " Timestamp('2004-11-11 00:00:00'),\n",
       " Timestamp('2004-11-12 00:00:00'),\n",
       " Timestamp('2004-11-15 00:00:00'),\n",
       " Timestamp('2004-11-16 00:00:00'),\n",
       " Timestamp('2004-11-17 00:00:00'),\n",
       " Timestamp('2004-11-18 00:00:00'),\n",
       " Timestamp('2004-11-19 00:00:00'),\n",
       " Timestamp('2004-11-22 00:00:00'),\n",
       " Timestamp('2004-11-23 00:00:00'),\n",
       " Timestamp('2004-11-24 00:00:00'),\n",
       " Timestamp('2004-11-26 00:00:00'),\n",
       " Timestamp('2004-11-29 00:00:00'),\n",
       " Timestamp('2004-11-30 00:00:00'),\n",
       " Timestamp('2004-12-01 00:00:00'),\n",
       " Timestamp('2004-12-02 00:00:00'),\n",
       " Timestamp('2004-12-03 00:00:00'),\n",
       " Timestamp('2004-12-06 00:00:00'),\n",
       " Timestamp('2004-12-07 00:00:00'),\n",
       " Timestamp('2004-12-08 00:00:00'),\n",
       " Timestamp('2004-12-09 00:00:00'),\n",
       " Timestamp('2004-12-10 00:00:00'),\n",
       " Timestamp('2004-12-13 00:00:00'),\n",
       " Timestamp('2004-12-14 00:00:00'),\n",
       " Timestamp('2004-12-15 00:00:00'),\n",
       " Timestamp('2004-12-16 00:00:00'),\n",
       " Timestamp('2004-12-17 00:00:00'),\n",
       " Timestamp('2004-12-20 00:00:00'),\n",
       " Timestamp('2004-12-21 00:00:00'),\n",
       " Timestamp('2004-12-22 00:00:00'),\n",
       " Timestamp('2004-12-23 00:00:00'),\n",
       " Timestamp('2004-12-27 00:00:00'),\n",
       " Timestamp('2004-12-28 00:00:00'),\n",
       " Timestamp('2004-12-29 00:00:00'),\n",
       " Timestamp('2004-12-30 00:00:00'),\n",
       " Timestamp('2004-12-31 00:00:00'),\n",
       " Timestamp('2005-01-03 00:00:00'),\n",
       " Timestamp('2005-01-04 00:00:00')]"
      ]
     },
     "execution_count": 18,
     "metadata": {},
     "output_type": "execute_result"
    }
   ],
   "source": [
    "# Backtest date list in Timestamp format\n",
    "test_dates = sorted(list(map(lambda date: pd.to_datetime(date, format='%Y%m%d'), frames.keys())))\n",
    "test_dates"
   ]
  },
  {
   "cell_type": "markdown",
   "metadata": {},
   "source": [
    "## Alpha Factors\n",
    "\n",
    "Use these factors as alpha factors from Barra's factors\n",
    "\n",
    "* **USFASTD_1DREVRSL** : Reversal\n",
    "\n",
    "* **USFASTD_EARNYILD** : Earnings Yield\n",
    "\n",
    "* **USFASTD_VALUE** : Value\n",
    "\n",
    "* **USFASTD_SENTMT** : Sentiment\n"
   ]
  },
  {
   "cell_type": "code",
   "execution_count": 19,
   "metadata": {},
   "outputs": [
    {
     "name": "stderr",
     "output_type": "stream",
     "text": [
      "/Users/yuki/miniconda3/envs/ai-alpha/lib/python3.6/site-packages/pandas/plotting/_converter.py:129: FutureWarning: Using an implicitly registered datetime converter for a matplotlib plotting method. The converter was registered by pandas on import. Future versions of pandas will require you to explicitly register matplotlib converters.\n",
      "\n",
      "To register the converters:\n",
      "\t>>> from pandas.plotting import register_matplotlib_converters\n",
      "\t>>> register_matplotlib_converters()\n",
      "  warnings.warn(msg, FutureWarning)\n"
     ]
    },
    {
     "data": {
      "image/png": "[encoded data removed]",
      "text/plain": [
       "<matplotlib.figure.Figure at 0x7ff9ba597780>"
      ]
     },
     "metadata": {
      "needs_background": "light"
     },
     "output_type": "display_data"
    }
   ],
   "source": [
    "alpha_factors = [\"USFASTD_1DREVRSL\", \"USFASTD_EARNYILD\", \"USFASTD_VALUE\", \"USFASTD_SENTMT\"]\n",
    "facret_df = pd.DataFrame(index = test_dates)\n",
    "plt.figure(figsize=(10,5))\n",
    "for dt in test_dates: \n",
    "    for alp in alpha_factors: \n",
    "        facret_df.at[dt, alp] = facret[dt.strftime('%Y%m%d')][alp]\n",
    "\n",
    "for column in facret_df.columns:\n",
    "        plt.plot(facret_df[column].cumsum(), label=column)\n",
    "\n",
    "plt.legend(loc='upper left')\n",
    "plt.xlabel('Date')\n",
    "plt.ylabel('Cumulative Factor Returns')\n",
    "plt.show()"
   ]
  },
  {
   "cell_type": "code",
   "execution_count": 20,
   "metadata": {},
   "outputs": [
    {
     "data": {
      "text/html": [
       "<div>\n",
       "<style scoped>\n",
       "    .dataframe tbody tr th:only-of-type {\n",
       "        vertical-align: middle;\n",
       "    }\n",
       "\n",
       "    .dataframe tbody tr th {\n",
       "        vertical-align: top;\n",
       "    }\n",
       "\n",
       "    .dataframe thead th {\n",
       "        text-align: right;\n",
       "    }\n",
       "</style>\n",
       "<table border=\"1\" class=\"dataframe\">\n",
       "  <thead>\n",
       "    <tr style=\"text-align: right;\">\n",
       "      <th></th>\n",
       "      <th>Barrid</th>\n",
       "      <th>USFASTD_1DREVRSL</th>\n",
       "      <th>USFASTD_AERODEF</th>\n",
       "      <th>USFASTD_AIRLINES</th>\n",
       "      <th>...</th>\n",
       "      <th>DataDate</th>\n",
       "      <th>DlyReturn</th>\n",
       "      <th>DlyReturnDate</th>\n",
       "      <th>h.opt.previous</th>\n",
       "    </tr>\n",
       "  </thead>\n",
       "  <tbody>\n",
       "    <tr>\n",
       "      <th>0</th>\n",
       "      <td>USA0001</td>\n",
       "      <td>-0.032</td>\n",
       "      <td>0.000</td>\n",
       "      <td>0.0</td>\n",
       "      <td>...</td>\n",
       "      <td>20040102</td>\n",
       "      <td>0.0</td>\n",
       "      <td>20040106</td>\n",
       "      <td>0.0</td>\n",
       "    </tr>\n",
       "    <tr>\n",
       "      <th>1</th>\n",
       "      <td>USA0011</td>\n",
       "      <td>-0.059</td>\n",
       "      <td>0.000</td>\n",
       "      <td>0.0</td>\n",
       "      <td>...</td>\n",
       "      <td>20040102</td>\n",
       "      <td>0.0</td>\n",
       "      <td>20040106</td>\n",
       "      <td>0.0</td>\n",
       "    </tr>\n",
       "    <tr>\n",
       "      <th>...</th>\n",
       "      <td>...</td>\n",
       "      <td>...</td>\n",
       "      <td>...</td>\n",
       "      <td>...</td>\n",
       "      <td>...</td>\n",
       "      <td>...</td>\n",
       "      <td>...</td>\n",
       "      <td>...</td>\n",
       "      <td>...</td>\n",
       "    </tr>\n",
       "    <tr>\n",
       "      <th>3</th>\n",
       "      <td>USA0062</td>\n",
       "      <td>-0.128</td>\n",
       "      <td>0.431</td>\n",
       "      <td>0.0</td>\n",
       "      <td>...</td>\n",
       "      <td>20040102</td>\n",
       "      <td>0.0</td>\n",
       "      <td>20040106</td>\n",
       "      <td>0.0</td>\n",
       "    </tr>\n",
       "    <tr>\n",
       "      <th>4</th>\n",
       "      <td>USA00E2</td>\n",
       "      <td>0.374</td>\n",
       "      <td>0.000</td>\n",
       "      <td>0.0</td>\n",
       "      <td>...</td>\n",
       "      <td>20040102</td>\n",
       "      <td>0.0</td>\n",
       "      <td>20040106</td>\n",
       "      <td>0.0</td>\n",
       "    </tr>\n",
       "  </tbody>\n",
       "</table>\n",
       "<p>5 rows × 95 columns</p>\n",
       "</div>"
      ],
      "text/plain": [
       "     Barrid  USFASTD_1DREVRSL  USFASTD_AERODEF  USFASTD_AIRLINES  ...  \\\n",
       "0   USA0001            -0.032            0.000               0.0  ...   \n",
       "1   USA0011            -0.059            0.000               0.0  ...   \n",
       "..      ...               ...              ...               ...  ...   \n",
       "3   USA0062            -0.128            0.431               0.0  ...   \n",
       "4   USA00E2             0.374            0.000               0.0  ...   \n",
       "\n",
       "    DataDate  DlyReturn  DlyReturnDate  h.opt.previous  \n",
       "0   20040102        0.0       20040106             0.0  \n",
       "1   20040102        0.0       20040106             0.0  \n",
       "..       ...        ...            ...             ...  \n",
       "3   20040102        0.0       20040106             0.0  \n",
       "4   20040102        0.0       20040106             0.0  \n",
       "\n",
       "[5 rows x 95 columns]"
      ]
     },
     "execution_count": 20,
     "metadata": {},
     "output_type": "execute_result"
    }
   ],
   "source": [
    "def clean_nas(df): \n",
    "    numeric_columns = df.select_dtypes(include=[np.number]).columns.tolist()\n",
    "    \n",
    "    for numeric_column in numeric_columns: \n",
    "        df[numeric_column] = np.nan_to_num(df[numeric_column])\n",
    "    \n",
    "    return df\n",
    "\n",
    "previous_holdings = pd.DataFrame(data = {\"Barrid\" : [\"USA02P1\"], \"h.opt.previous\" : np.array(0)})\n",
    "df = frames[test_dates[0].strftime('%Y%m%d')]\n",
    "\n",
    "df = df.merge(previous_holdings, how = 'left', on = 'Barrid')\n",
    "df = clean_nas(df)\n",
    "df = impute_specrisk(df)\n",
    "df.head()"
   ]
  },
  {
   "cell_type": "markdown",
   "metadata": {},
   "source": [
    "Construct the universe of stocks as only those companies\n",
    " - that have a market capitalization of at least 1 billion dollars OR\n",
    " - that are in the previous day's holdings, even if on the current day, the company no longer meets the 1 billion dollar criteria.\n",
    " "
   ]
  },
  {
   "cell_type": "code",
   "execution_count": 21,
   "metadata": {},
   "outputs": [
    {
     "name": "stdout",
     "output_type": "stream",
     "text": [
      "(2265, 94)\n"
     ]
    },
    {
     "data": {
      "text/html": [
       "<div>\n",
       "<style scoped>\n",
       "    .dataframe tbody tr th:only-of-type {\n",
       "        vertical-align: middle;\n",
       "    }\n",
       "\n",
       "    .dataframe tbody tr th {\n",
       "        vertical-align: top;\n",
       "    }\n",
       "\n",
       "    .dataframe thead th {\n",
       "        text-align: right;\n",
       "    }\n",
       "</style>\n",
       "<table border=\"1\" class=\"dataframe\">\n",
       "  <thead>\n",
       "    <tr style=\"text-align: right;\">\n",
       "      <th></th>\n",
       "      <th>Barrid</th>\n",
       "      <th>USFASTD_1DREVRSL</th>\n",
       "      <th>USFASTD_AERODEF</th>\n",
       "      <th>USFASTD_AIRLINES</th>\n",
       "      <th>...</th>\n",
       "      <th>PredBeta</th>\n",
       "      <th>DataDate</th>\n",
       "      <th>DlyReturnDate</th>\n",
       "      <th>h.opt.previous</th>\n",
       "    </tr>\n",
       "  </thead>\n",
       "  <tbody>\n",
       "    <tr>\n",
       "      <th>0</th>\n",
       "      <td>USA0001</td>\n",
       "      <td>-0.032</td>\n",
       "      <td>0.000</td>\n",
       "      <td>0.0</td>\n",
       "      <td>...</td>\n",
       "      <td>0.156387</td>\n",
       "      <td>20040102</td>\n",
       "      <td>20040106</td>\n",
       "      <td>0.0</td>\n",
       "    </tr>\n",
       "    <tr>\n",
       "      <th>1</th>\n",
       "      <td>USA0011</td>\n",
       "      <td>-0.059</td>\n",
       "      <td>0.000</td>\n",
       "      <td>0.0</td>\n",
       "      <td>...</td>\n",
       "      <td>0.147900</td>\n",
       "      <td>20040102</td>\n",
       "      <td>20040106</td>\n",
       "      <td>0.0</td>\n",
       "    </tr>\n",
       "    <tr>\n",
       "      <th>...</th>\n",
       "      <td>...</td>\n",
       "      <td>...</td>\n",
       "      <td>...</td>\n",
       "      <td>...</td>\n",
       "      <td>...</td>\n",
       "      <td>...</td>\n",
       "      <td>...</td>\n",
       "      <td>...</td>\n",
       "      <td>...</td>\n",
       "    </tr>\n",
       "    <tr>\n",
       "      <th>3</th>\n",
       "      <td>USA0062</td>\n",
       "      <td>-0.128</td>\n",
       "      <td>0.431</td>\n",
       "      <td>0.0</td>\n",
       "      <td>...</td>\n",
       "      <td>0.355564</td>\n",
       "      <td>20040102</td>\n",
       "      <td>20040106</td>\n",
       "      <td>0.0</td>\n",
       "    </tr>\n",
       "    <tr>\n",
       "      <th>4</th>\n",
       "      <td>USA00E2</td>\n",
       "      <td>0.374</td>\n",
       "      <td>0.000</td>\n",
       "      <td>0.0</td>\n",
       "      <td>...</td>\n",
       "      <td>0.412602</td>\n",
       "      <td>20040102</td>\n",
       "      <td>20040106</td>\n",
       "      <td>0.0</td>\n",
       "    </tr>\n",
       "  </tbody>\n",
       "</table>\n",
       "<p>5 rows × 94 columns</p>\n",
       "</div>"
      ],
      "text/plain": [
       "     Barrid  USFASTD_1DREVRSL  USFASTD_AERODEF  USFASTD_AIRLINES  ...  \\\n",
       "0   USA0001            -0.032            0.000               0.0  ...   \n",
       "1   USA0011            -0.059            0.000               0.0  ...   \n",
       "..      ...               ...              ...               ...  ...   \n",
       "3   USA0062            -0.128            0.431               0.0  ...   \n",
       "4   USA00E2             0.374            0.000               0.0  ...   \n",
       "\n",
       "    PredBeta  DataDate  DlyReturnDate  h.opt.previous  \n",
       "0   0.156387  20040102       20040106             0.0  \n",
       "1   0.147900  20040102       20040106             0.0  \n",
       "..       ...       ...            ...             ...  \n",
       "3   0.355564  20040102       20040106             0.0  \n",
       "4   0.412602  20040102       20040106             0.0  \n",
       "\n",
       "[5 rows x 94 columns]"
      ]
     },
     "execution_count": 21,
     "metadata": {},
     "output_type": "execute_result"
    }
   ],
   "source": [
    "def get_universe(df):\n",
    "    universe = df.loc[(df['IssuerMarketCap'] >= 1e9) | (abs(df['h.opt.previous']) > 0.0)].copy()\n",
    "    universe = universe.drop(['DlyReturn'], axis=1)\n",
    "    \n",
    "    return universe\n",
    "\n",
    "universe = get_universe(df)\n",
    "print(universe.shape)\n",
    "universe.head()"
   ]
  },
  {
   "cell_type": "code",
   "execution_count": 22,
   "metadata": {},
   "outputs": [
    {
     "data": {
      "text/plain": [
       "'20040102'"
      ]
     },
     "execution_count": 22,
     "metadata": {},
     "output_type": "execute_result"
    }
   ],
   "source": [
    "date = str(int(universe['DataDate'][0])) \n",
    "date"
   ]
  },
  {
   "cell_type": "markdown",
   "metadata": {},
   "source": [
    "Define all the factors not used as alpha factors Risk factors"
   ]
  },
  {
   "cell_type": "code",
   "execution_count": 23,
   "metadata": {
    "scrolled": true
   },
   "outputs": [
    {
     "name": "stdout",
     "output_type": "stream",
     "text": [
      "81\n",
      "['USFASTD_1DREVRSL', 'USFASTD_AERODEF', 'USFASTD_AIRLINES', 'USFASTD_ALUMSTEL', 'USFASTD_APPAREL', 'USFASTD_AUTO', 'USFASTD_BANKS', 'USFASTD_BETA', 'USFASTD_BEVTOB', 'USFASTD_BIOLIFE', 'USFASTD_BLDGPROD', 'USFASTD_CHEM', 'USFASTD_CNSTENG', 'USFASTD_CNSTMACH', 'USFASTD_CNSTMATL', 'USFASTD_COMMEQP', 'USFASTD_COMPELEC', 'USFASTD_COMSVCS', 'USFASTD_CONGLOM', 'USFASTD_CONTAINR', 'USFASTD_DISTRIB', 'USFASTD_DIVFIN', 'USFASTD_DIVYILD', 'USFASTD_DWNRISK', 'USFASTD_EARNQLTY', 'USFASTD_EARNYILD', 'USFASTD_ELECEQP', 'USFASTD_ELECUTIL', 'USFASTD_FOODPROD', 'USFASTD_FOODRET', 'USFASTD_GASUTIL', 'USFASTD_GROWTH', 'USFASTD_HLTHEQP', 'USFASTD_HLTHSVCS', 'USFASTD_HOMEBLDG', 'USFASTD_HOUSEDUR', 'USFASTD_INDMACH', 'USFASTD_INDMOM', 'USFASTD_INSURNCE', 'USFASTD_INTERNET', 'USFASTD_LEISPROD', 'USFASTD_LEISSVCS', 'USFASTD_LEVERAGE', 'USFASTD_LIFEINS', 'USFASTD_LIQUIDTY', 'USFASTD_LTREVRSL', 'USFASTD_MEDIA', 'USFASTD_MGDHLTH', 'USFASTD_MGMTQLTY', 'USFASTD_MIDCAP', 'USFASTD_MOMENTUM', 'USFASTD_MULTUTIL', 'USFASTD_OILGSCON', 'USFASTD_OILGSDRL', 'USFASTD_OILGSEQP', 'USFASTD_OILGSEXP', 'USFASTD_PAPER', 'USFASTD_PHARMA', 'USFASTD_PRECMTLS', 'USFASTD_PROFIT', 'USFASTD_PROSPECT', 'USFASTD_PSNLPROD', 'USFASTD_REALEST', 'USFASTD_RESTAUR', 'USFASTD_RESVOL', 'USFASTD_ROADRAIL', 'USFASTD_SEASON', 'USFASTD_SEMICOND', 'USFASTD_SEMIEQP', 'USFASTD_SENTMT', 'USFASTD_SIZE', 'USFASTD_SOFTWARE', 'USFASTD_SPLTYRET', 'USFASTD_SPTYCHEM', 'USFASTD_SPTYSTOR', 'USFASTD_STREVRSL', 'USFASTD_TELECOM', 'USFASTD_TRADECO', 'USFASTD_TRANSPRT', 'USFASTD_VALUE', 'USFASTD_WIRELESS']\n"
     ]
    }
   ],
   "source": [
    "all_factors = factors_from_names(list(universe))\n",
    "print(len(all_factors))\n",
    "print(all_factors)"
   ]
  },
  {
   "cell_type": "code",
   "execution_count": 24,
   "metadata": {},
   "outputs": [
    {
     "name": "stdout",
     "output_type": "stream",
     "text": [
      "77\n",
      "['USFASTD_AERODEF', 'USFASTD_AIRLINES', 'USFASTD_ALUMSTEL', 'USFASTD_APPAREL', 'USFASTD_AUTO', 'USFASTD_BANKS', 'USFASTD_BETA', 'USFASTD_BEVTOB', 'USFASTD_BIOLIFE', 'USFASTD_BLDGPROD', 'USFASTD_CHEM', 'USFASTD_CNSTENG', 'USFASTD_CNSTMACH', 'USFASTD_CNSTMATL', 'USFASTD_COMMEQP', 'USFASTD_COMPELEC', 'USFASTD_COMSVCS', 'USFASTD_CONGLOM', 'USFASTD_CONTAINR', 'USFASTD_DISTRIB', 'USFASTD_DIVFIN', 'USFASTD_DIVYILD', 'USFASTD_DWNRISK', 'USFASTD_EARNQLTY', 'USFASTD_ELECEQP', 'USFASTD_ELECUTIL', 'USFASTD_FOODPROD', 'USFASTD_FOODRET', 'USFASTD_GASUTIL', 'USFASTD_GROWTH', 'USFASTD_HLTHEQP', 'USFASTD_HLTHSVCS', 'USFASTD_HOMEBLDG', 'USFASTD_HOUSEDUR', 'USFASTD_INDMACH', 'USFASTD_INDMOM', 'USFASTD_INSURNCE', 'USFASTD_INTERNET', 'USFASTD_LEISPROD', 'USFASTD_LEISSVCS', 'USFASTD_LEVERAGE', 'USFASTD_LIFEINS', 'USFASTD_LIQUIDTY', 'USFASTD_LTREVRSL', 'USFASTD_MEDIA', 'USFASTD_MGDHLTH', 'USFASTD_MGMTQLTY', 'USFASTD_MIDCAP', 'USFASTD_MOMENTUM', 'USFASTD_MULTUTIL', 'USFASTD_OILGSCON', 'USFASTD_OILGSDRL', 'USFASTD_OILGSEQP', 'USFASTD_OILGSEXP', 'USFASTD_PAPER', 'USFASTD_PHARMA', 'USFASTD_PRECMTLS', 'USFASTD_PROFIT', 'USFASTD_PROSPECT', 'USFASTD_PSNLPROD', 'USFASTD_REALEST', 'USFASTD_RESTAUR', 'USFASTD_RESVOL', 'USFASTD_ROADRAIL', 'USFASTD_SEASON', 'USFASTD_SEMICOND', 'USFASTD_SEMIEQP', 'USFASTD_SIZE', 'USFASTD_SOFTWARE', 'USFASTD_SPLTYRET', 'USFASTD_SPTYCHEM', 'USFASTD_SPTYSTOR', 'USFASTD_STREVRSL', 'USFASTD_TELECOM', 'USFASTD_TRADECO', 'USFASTD_TRANSPRT', 'USFASTD_WIRELESS']\n"
     ]
    }
   ],
   "source": [
    "def setdiff(temp1, temp2): \n",
    "    s = set(temp2)\n",
    "    temp3 = [x for x in temp1 if x not in s]\n",
    "    return temp3\n",
    "\n",
    "risk_factors = setdiff(all_factors, alpha_factors)\n",
    "print(len(risk_factors))\n",
    "print(risk_factors)"
   ]
  },
  {
   "cell_type": "code",
   "execution_count": 25,
   "metadata": {
    "scrolled": true
   },
   "outputs": [
    {
     "data": {
      "text/plain": [
       "0        0.0\n",
       "1        0.0\n",
       "        ... \n",
       "12391    0.0\n",
       "12422    0.0\n",
       "Name: h.opt.previous, Length: 2265, dtype: float64"
      ]
     },
     "execution_count": 25,
     "metadata": {},
     "output_type": "execute_result"
    }
   ],
   "source": [
    "h0 = universe['h.opt.previous']\n",
    "h0"
   ]
  },
  {
   "cell_type": "markdown",
   "metadata": {},
   "source": [
    "## Risk Factor Exposures"
   ]
  },
  {
   "cell_type": "code",
   "execution_count": 26,
   "metadata": {},
   "outputs": [
    {
     "data": {
      "text/plain": [
       "'SpecRisk ~ 0 + USFASTD_AERODEF + USFASTD_AIRLINES + USFASTD_ALUMSTEL + USFASTD_APPAREL + USFASTD_AUTO + USFASTD_BANKS + USFASTD_BETA + USFASTD_BEVTOB + USFASTD_BIOLIFE + USFASTD_BLDGPROD + USFASTD_CHEM + USFASTD_CNSTENG + USFASTD_CNSTMACH + USFASTD_CNSTMATL + USFASTD_COMMEQP + USFASTD_COMPELEC + USFASTD_COMSVCS + USFASTD_CONGLOM + USFASTD_CONTAINR + USFASTD_DISTRIB + USFASTD_DIVFIN + USFASTD_DIVYILD + USFASTD_DWNRISK + USFASTD_EARNQLTY + USFASTD_ELECEQP + USFASTD_ELECUTIL + USFASTD_FOODPROD + USFASTD_FOODRET + USFASTD_GASUTIL + USFASTD_GROWTH + USFASTD_HLTHEQP + USFASTD_HLTHSVCS + USFASTD_HOMEBLDG + USFASTD_HOUSEDUR + USFASTD_INDMACH + USFASTD_INDMOM + USFASTD_INSURNCE + USFASTD_INTERNET + USFASTD_LEISPROD + USFASTD_LEISSVCS + USFASTD_LEVERAGE + USFASTD_LIFEINS + USFASTD_LIQUIDTY + USFASTD_LTREVRSL + USFASTD_MEDIA + USFASTD_MGDHLTH + USFASTD_MGMTQLTY + USFASTD_MIDCAP + USFASTD_MOMENTUM + USFASTD_MULTUTIL + USFASTD_OILGSCON + USFASTD_OILGSDRL + USFASTD_OILGSEQP + USFASTD_OILGSEXP + USFASTD_PAPER + USFASTD_PHARMA + USFASTD_PRECMTLS + USFASTD_PROFIT + USFASTD_PROSPECT + USFASTD_PSNLPROD + USFASTD_REALEST + USFASTD_RESTAUR + USFASTD_RESVOL + USFASTD_ROADRAIL + USFASTD_SEASON + USFASTD_SEMICOND + USFASTD_SEMIEQP + USFASTD_SIZE + USFASTD_SOFTWARE + USFASTD_SPLTYRET + USFASTD_SPTYCHEM + USFASTD_SPTYSTOR + USFASTD_STREVRSL + USFASTD_TELECOM + USFASTD_TRADECO + USFASTD_TRANSPRT + USFASTD_WIRELESS'"
      ]
     },
     "execution_count": 26,
     "metadata": {},
     "output_type": "execute_result"
    }
   ],
   "source": [
    "formula = get_formula(risk_factors, \"SpecRisk\")\n",
    "formula"
   ]
  },
  {
   "cell_type": "code",
   "execution_count": 27,
   "metadata": {
    "scrolled": true
   },
   "outputs": [
    {
     "name": "stdout",
     "output_type": "stream",
     "text": [
      "(2265, 77)\n",
      "[[0. 0. 0. ... 0. 0. 0.]\n",
      " [0. 0. 0. ... 0. 0. 0.]\n",
      " [0. 0. 0. ... 0. 0. 0.]\n",
      " ...\n",
      " [0. 0. 0. ... 0. 0. 0.]\n",
      " [0. 0. 0. ... 0. 0. 1.]\n",
      " [0. 0. 0. ... 0. 0. 0.]]\n"
     ]
    },
    {
     "data": {
      "text/plain": [
       "DesignMatrix with shape (2265, 77)\n",
       "  Columns:\n",
       "    ['USFASTD_AERODEF',\n",
       "     'USFASTD_AIRLINES',\n",
       "     'USFASTD_ALUMSTEL',\n",
       "     'USFASTD_APPAREL',\n",
       "     'USFASTD_AUTO',\n",
       "     'USFASTD_BANKS',\n",
       "     'USFASTD_BETA',\n",
       "     'USFASTD_BEVTOB',\n",
       "     'USFASTD_BIOLIFE',\n",
       "     'USFASTD_BLDGPROD',\n",
       "     'USFASTD_CHEM',\n",
       "     'USFASTD_CNSTENG',\n",
       "     'USFASTD_CNSTMACH',\n",
       "     'USFASTD_CNSTMATL',\n",
       "     'USFASTD_COMMEQP',\n",
       "     'USFASTD_COMPELEC',\n",
       "     'USFASTD_COMSVCS',\n",
       "     'USFASTD_CONGLOM',\n",
       "     'USFASTD_CONTAINR',\n",
       "     'USFASTD_DISTRIB',\n",
       "     'USFASTD_DIVFIN',\n",
       "     'USFASTD_DIVYILD',\n",
       "     'USFASTD_DWNRISK',\n",
       "     'USFASTD_EARNQLTY',\n",
       "     'USFASTD_ELECEQP',\n",
       "     'USFASTD_ELECUTIL',\n",
       "     'USFASTD_FOODPROD',\n",
       "     'USFASTD_FOODRET',\n",
       "     'USFASTD_GASUTIL',\n",
       "     'USFASTD_GROWTH',\n",
       "     'USFASTD_HLTHEQP',\n",
       "     'USFASTD_HLTHSVCS',\n",
       "     'USFASTD_HOMEBLDG',\n",
       "     'USFASTD_HOUSEDUR',\n",
       "     'USFASTD_INDMACH',\n",
       "     'USFASTD_INDMOM',\n",
       "     'USFASTD_INSURNCE',\n",
       "     'USFASTD_INTERNET',\n",
       "     'USFASTD_LEISPROD',\n",
       "     'USFASTD_LEISSVCS',\n",
       "     'USFASTD_LEVERAGE',\n",
       "     'USFASTD_LIFEINS',\n",
       "     'USFASTD_LIQUIDTY',\n",
       "     'USFASTD_LTREVRSL',\n",
       "     'USFASTD_MEDIA',\n",
       "     'USFASTD_MGDHLTH',\n",
       "     'USFASTD_MGMTQLTY',\n",
       "     'USFASTD_MIDCAP',\n",
       "     'USFASTD_MOMENTUM',\n",
       "     'USFASTD_MULTUTIL',\n",
       "     'USFASTD_OILGSCON',\n",
       "     'USFASTD_OILGSDRL',\n",
       "     'USFASTD_OILGSEQP',\n",
       "     'USFASTD_OILGSEXP',\n",
       "     'USFASTD_PAPER',\n",
       "     'USFASTD_PHARMA',\n",
       "     'USFASTD_PRECMTLS',\n",
       "     'USFASTD_PROFIT',\n",
       "     'USFASTD_PROSPECT',\n",
       "     'USFASTD_PSNLPROD',\n",
       "     'USFASTD_REALEST',\n",
       "     'USFASTD_RESTAUR',\n",
       "     'USFASTD_RESVOL',\n",
       "     'USFASTD_ROADRAIL',\n",
       "     'USFASTD_SEASON',\n",
       "     'USFASTD_SEMICOND',\n",
       "     'USFASTD_SEMIEQP',\n",
       "     'USFASTD_SIZE',\n",
       "     'USFASTD_SOFTWARE',\n",
       "     'USFASTD_SPLTYRET',\n",
       "     'USFASTD_SPTYCHEM',\n",
       "     'USFASTD_SPTYSTOR',\n",
       "     'USFASTD_STREVRSL',\n",
       "     'USFASTD_TELECOM',\n",
       "     'USFASTD_TRADECO',\n",
       "     'USFASTD_TRANSPRT',\n",
       "     'USFASTD_WIRELESS']\n",
       "  Terms:\n",
       "    'USFASTD_AERODEF' (column 0)\n",
       "    'USFASTD_AIRLINES' (column 1)\n",
       "    'USFASTD_ALUMSTEL' (column 2)\n",
       "    'USFASTD_APPAREL' (column 3)\n",
       "    'USFASTD_AUTO' (column 4)\n",
       "    'USFASTD_BANKS' (column 5)\n",
       "    'USFASTD_BETA' (column 6)\n",
       "    'USFASTD_BEVTOB' (column 7)\n",
       "    'USFASTD_BIOLIFE' (column 8)\n",
       "    'USFASTD_BLDGPROD' (column 9)\n",
       "    'USFASTD_CHEM' (column 10)\n",
       "    'USFASTD_CNSTENG' (column 11)\n",
       "    'USFASTD_CNSTMACH' (column 12)\n",
       "    'USFASTD_CNSTMATL' (column 13)\n",
       "    'USFASTD_COMMEQP' (column 14)\n",
       "    'USFASTD_COMPELEC' (column 15)\n",
       "    'USFASTD_COMSVCS' (column 16)\n",
       "    'USFASTD_CONGLOM' (column 17)\n",
       "    'USFASTD_CONTAINR' (column 18)\n",
       "    'USFASTD_DISTRIB' (column 19)\n",
       "    'USFASTD_DIVFIN' (column 20)\n",
       "    'USFASTD_DIVYILD' (column 21)\n",
       "    'USFASTD_DWNRISK' (column 22)\n",
       "    'USFASTD_EARNQLTY' (column 23)\n",
       "    'USFASTD_ELECEQP' (column 24)\n",
       "    'USFASTD_ELECUTIL' (column 25)\n",
       "    'USFASTD_FOODPROD' (column 26)\n",
       "    'USFASTD_FOODRET' (column 27)\n",
       "    'USFASTD_GASUTIL' (column 28)\n",
       "    'USFASTD_GROWTH' (column 29)\n",
       "    'USFASTD_HLTHEQP' (column 30)\n",
       "    'USFASTD_HLTHSVCS' (column 31)\n",
       "    'USFASTD_HOMEBLDG' (column 32)\n",
       "    'USFASTD_HOUSEDUR' (column 33)\n",
       "    'USFASTD_INDMACH' (column 34)\n",
       "    'USFASTD_INDMOM' (column 35)\n",
       "    'USFASTD_INSURNCE' (column 36)\n",
       "    'USFASTD_INTERNET' (column 37)\n",
       "    'USFASTD_LEISPROD' (column 38)\n",
       "    'USFASTD_LEISSVCS' (column 39)\n",
       "    'USFASTD_LEVERAGE' (column 40)\n",
       "    'USFASTD_LIFEINS' (column 41)\n",
       "    'USFASTD_LIQUIDTY' (column 42)\n",
       "    'USFASTD_LTREVRSL' (column 43)\n",
       "    'USFASTD_MEDIA' (column 44)\n",
       "    'USFASTD_MGDHLTH' (column 45)\n",
       "    'USFASTD_MGMTQLTY' (column 46)\n",
       "    'USFASTD_MIDCAP' (column 47)\n",
       "    'USFASTD_MOMENTUM' (column 48)\n",
       "    'USFASTD_MULTUTIL' (column 49)\n",
       "    'USFASTD_OILGSCON' (column 50)\n",
       "    'USFASTD_OILGSDRL' (column 51)\n",
       "    'USFASTD_OILGSEQP' (column 52)\n",
       "    'USFASTD_OILGSEXP' (column 53)\n",
       "    'USFASTD_PAPER' (column 54)\n",
       "    'USFASTD_PHARMA' (column 55)\n",
       "    'USFASTD_PRECMTLS' (column 56)\n",
       "    'USFASTD_PROFIT' (column 57)\n",
       "    'USFASTD_PROSPECT' (column 58)\n",
       "    'USFASTD_PSNLPROD' (column 59)\n",
       "    'USFASTD_REALEST' (column 60)\n",
       "    'USFASTD_RESTAUR' (column 61)\n",
       "    'USFASTD_RESVOL' (column 62)\n",
       "    'USFASTD_ROADRAIL' (column 63)\n",
       "    'USFASTD_SEASON' (column 64)\n",
       "    'USFASTD_SEMICOND' (column 65)\n",
       "    'USFASTD_SEMIEQP' (column 66)\n",
       "    'USFASTD_SIZE' (column 67)\n",
       "    'USFASTD_SOFTWARE' (column 68)\n",
       "    'USFASTD_SPLTYRET' (column 69)\n",
       "    'USFASTD_SPTYCHEM' (column 70)\n",
       "    'USFASTD_SPTYSTOR' (column 71)\n",
       "    'USFASTD_STREVRSL' (column 72)\n",
       "    'USFASTD_TELECOM' (column 73)\n",
       "    'USFASTD_TRADECO' (column 74)\n",
       "    'USFASTD_TRANSPRT' (column 75)\n",
       "    'USFASTD_WIRELESS' (column 76)\n",
       "  (to view full data, use np.asarray(this_obj))"
      ]
     },
     "execution_count": 27,
     "metadata": {},
     "output_type": "execute_result"
    }
   ],
   "source": [
    "def get_B(factors, universe):\n",
    "    formula = get_formula(factors, \"SpecRisk\")\n",
    "    outcome, predictors = patsy.dmatrices(formula, universe)\n",
    "    return predictors\n",
    "\n",
    "B = get_B(risk_factors, universe)\n",
    "BT = B.transpose()\n",
    "\n",
    "print(B.shape)\n",
    "print(np.asarray(B))\n",
    "B"
   ]
  },
  {
   "cell_type": "markdown",
   "metadata": {},
   "source": [
    "## Specific Variance"
   ]
  },
  {
   "cell_type": "code",
   "execution_count": 28,
   "metadata": {},
   "outputs": [
    {
     "data": {
      "text/plain": [
       "0     9.014505\n",
       "1    11.726327\n",
       "Name: SpecRisk, dtype: float64"
      ]
     },
     "execution_count": 28,
     "metadata": {},
     "output_type": "execute_result"
    }
   ],
   "source": [
    "universe['SpecRisk'][0:2]"
   ]
  },
  {
   "cell_type": "code",
   "execution_count": 29,
   "metadata": {},
   "outputs": [
    {
     "data": {
      "text/plain": [
       "0    0.008126\n",
       "1    0.013751\n",
       "Name: SpecRisk, dtype: float64"
      ]
     },
     "execution_count": 29,
     "metadata": {},
     "output_type": "execute_result"
    }
   ],
   "source": [
    "# Specific Risk are in percentage, so re-scale to decimals and square\n",
    "specVar = (0.01 * universe['SpecRisk']) ** 2\n",
    "specVar[0:2]"
   ]
  },
  {
   "cell_type": "markdown",
   "metadata": {},
   "source": [
    "## Factor Covariance"
   ]
  },
  {
   "cell_type": "code",
   "execution_count": 30,
   "metadata": {},
   "outputs": [
    {
     "data": {
      "text/html": [
       "<div>\n",
       "<style scoped>\n",
       "    .dataframe tbody tr th:only-of-type {\n",
       "        vertical-align: middle;\n",
       "    }\n",
       "\n",
       "    .dataframe tbody tr th {\n",
       "        vertical-align: top;\n",
       "    }\n",
       "\n",
       "    .dataframe thead th {\n",
       "        text-align: right;\n",
       "    }\n",
       "</style>\n",
       "<table border=\"1\" class=\"dataframe\">\n",
       "  <thead>\n",
       "    <tr style=\"text-align: right;\">\n",
       "      <th></th>\n",
       "      <th>Factor1</th>\n",
       "      <th>Factor2</th>\n",
       "      <th>VarCovar</th>\n",
       "      <th>DataDate</th>\n",
       "    </tr>\n",
       "  </thead>\n",
       "  <tbody>\n",
       "    <tr>\n",
       "      <th>0</th>\n",
       "      <td>USFASTD_1DREVRSL</td>\n",
       "      <td>USFASTD_1DREVRSL</td>\n",
       "      <td>1.958869</td>\n",
       "      <td>20040102</td>\n",
       "    </tr>\n",
       "    <tr>\n",
       "      <th>1</th>\n",
       "      <td>USFASTD_1DREVRSL</td>\n",
       "      <td>USFASTD_BETA</td>\n",
       "      <td>1.602458</td>\n",
       "      <td>20040102</td>\n",
       "    </tr>\n",
       "    <tr>\n",
       "      <th>...</th>\n",
       "      <td>...</td>\n",
       "      <td>...</td>\n",
       "      <td>...</td>\n",
       "      <td>...</td>\n",
       "    </tr>\n",
       "    <tr>\n",
       "      <th>3</th>\n",
       "      <td>USFASTD_1DREVRSL</td>\n",
       "      <td>USFASTD_DWNRISK</td>\n",
       "      <td>-0.064387</td>\n",
       "      <td>20040102</td>\n",
       "    </tr>\n",
       "    <tr>\n",
       "      <th>4</th>\n",
       "      <td>USFASTD_1DREVRSL</td>\n",
       "      <td>USFASTD_EARNQLTY</td>\n",
       "      <td>0.046573</td>\n",
       "      <td>20040102</td>\n",
       "    </tr>\n",
       "  </tbody>\n",
       "</table>\n",
       "<p>5 rows × 4 columns</p>\n",
       "</div>"
      ],
      "text/plain": [
       "             Factor1           Factor2  VarCovar  DataDate\n",
       "0   USFASTD_1DREVRSL  USFASTD_1DREVRSL  1.958869  20040102\n",
       "1   USFASTD_1DREVRSL      USFASTD_BETA  1.602458  20040102\n",
       "..               ...               ...       ...       ...\n",
       "3   USFASTD_1DREVRSL   USFASTD_DWNRISK -0.064387  20040102\n",
       "4   USFASTD_1DREVRSL  USFASTD_EARNQLTY  0.046573  20040102\n",
       "\n",
       "[5 rows x 4 columns]"
      ]
     },
     "execution_count": 30,
     "metadata": {},
     "output_type": "execute_result"
    }
   ],
   "source": [
    "covariance[date].head()"
   ]
  },
  {
   "cell_type": "markdown",
   "metadata": {},
   "source": [
    "When filling the risk factor matrix, we can use just the variances and set the covariances in the off-diagonals to zero."
   ]
  },
  {
   "cell_type": "code",
   "execution_count": 31,
   "metadata": {},
   "outputs": [
    {
     "name": "stdout",
     "output_type": "stream",
     "text": [
      "(77, 77)\n"
     ]
    },
    {
     "data": {
      "text/plain": [
       "array([[0.00845121, 0.        , 0.        , ..., 0.        , 0.        ,\n",
       "        0.        ],\n",
       "       [0.        , 0.04305446, 0.        , ..., 0.        , 0.        ,\n",
       "        0.        ],\n",
       "       [0.        , 0.        , 0.02307853, ..., 0.        , 0.        ,\n",
       "        0.        ],\n",
       "       ...,\n",
       "       [0.        , 0.        , 0.        , ..., 0.00521378, 0.        ,\n",
       "        0.        ],\n",
       "       [0.        , 0.        , 0.        , ..., 0.        , 0.00726435,\n",
       "        0.        ],\n",
       "       [0.        , 0.        , 0.        , ..., 0.        , 0.        ,\n",
       "        0.02185539]])"
      ]
     },
     "execution_count": 31,
     "metadata": {},
     "output_type": "execute_result"
    }
   ],
   "source": [
    "def colnames(B):\n",
    "    if type(B) == patsy.design_info.DesignMatrix: \n",
    "        return B.design_info.column_names\n",
    "    if type(B) == pandas.core.frame.DataFrame: \n",
    "        return B.columns.tolist()\n",
    "    return None\n",
    "\n",
    "def get_cov_element(cv, factor1, factor2): \n",
    "    try:\n",
    "        return(cv.loc[(cv.Factor1==factor1) & (cv.Factor2==factor2),\"VarCovar\"].iloc[0])\n",
    "    except:\n",
    "        return 0 \n",
    "\n",
    "\n",
    "def factor_cov(date, B):  \n",
    "    cv = covariance[date]\n",
    "    k = np.shape(B)[1]\n",
    "    Fm = np.zeros([k,k])\n",
    "    for i in range(0,k):\n",
    "        j=i\n",
    "        fac1 = colnames(B)[i]\n",
    "        fac2 = colnames(B)[j]\n",
    "        # Convert from percentage units squared to decimal\n",
    "        Fm[i,j] = (0.01**2) * get_cov_element(cv, fac1, fac2)\n",
    "    return(Fm)\n",
    "\n",
    "\n",
    "def get_F(date, B):\n",
    "    \"\"\"\n",
    "    Create the factor variance matrix\n",
    "\n",
    "    Parameters\n",
    "    ----------\n",
    "    date : string\n",
    "           date. For example 20040102\n",
    "\n",
    "    B : patsy.design_info.DesignMatrix OR pandas.core.frame.DataFrame\n",
    "        Matrix of Risk Factors\n",
    "\n",
    "    Returns\n",
    "    -------\n",
    "    Fm : Numpy ndarray\n",
    "        factor covariance matrix\n",
    "    \"\"\"\n",
    "\n",
    "    return np.diag(np.diag(factor_cov(date, B)))\n",
    "\n",
    "Fvar = get_F(date, B)\n",
    "print(Fvar.shape)\n",
    "Fvar"
   ]
  },
  {
   "cell_type": "code",
   "execution_count": 32,
   "metadata": {},
   "outputs": [
    {
     "data": {
      "text/plain": [
       "array([[ 0.00845121,  0.00032519,  0.        , ...,  0.00020492,\n",
       "         0.00044973, -0.00038478],\n",
       "       [ 0.        ,  0.04305446,  0.        , ...,  0.        ,\n",
       "         0.00415129,  0.00080648],\n",
       "       [ 0.00120044,  0.00226295,  0.02307853, ...,  0.00237209,\n",
       "         0.00112863, -0.00027942],\n",
       "       ...,\n",
       "       [ 0.        ,  0.0017087 ,  0.        , ...,  0.00521378,\n",
       "         0.00063814, -0.00072428],\n",
       "       [ 0.        ,  0.        ,  0.        , ...,  0.        ,\n",
       "         0.00726435, -0.0001058 ],\n",
       "       [ 0.        ,  0.        ,  0.        , ...,  0.        ,\n",
       "         0.        ,  0.02185539]])"
      ]
     },
     "execution_count": 32,
     "metadata": {},
     "output_type": "execute_result"
    }
   ],
   "source": [
    "def diagonal_factor_cov(date, B):\n",
    "    \"\"\"\n",
    "    Create the factor covariance matrix\n",
    "\n",
    "    Parameters\n",
    "    ----------\n",
    "    date : string\n",
    "           date. For example 20040102\n",
    "    B : patsy.design_info.DesignMatrix OR pandas.core.frame.DataFrame\n",
    "        Matrix of Risk Factors\n",
    "        \n",
    "    Returns\n",
    "    -------\n",
    "    Fm : Numpy ndarray\n",
    "        factor covariance matrix\n",
    "    \"\"\"\n",
    "    \n",
    "    factor_names = colnames(B)\n",
    "    k = len(factor_names)\n",
    "    Fm = np.zeros([k, k])\n",
    "    num_found = 0 \n",
    "    num_not_found = 0\n",
    "    \n",
    "    for i in range(0, k):\n",
    "        factor1 = factor_names[i]\n",
    "        for j in range(0, k):\n",
    "            factor2 = factor_names[j]\n",
    "            try:\n",
    "                cov12 = covariance[date].loc[(covariance[date]['Factor1'] == factor1) & (covariance[date]['Factor2'] == factor2), 'VarCovar'].iloc[0]\n",
    "                # print(f\"found covariance for: factor 1: {factor1} factor2: {factor2}\")\n",
    "                num_found += 1\n",
    "            except:\n",
    "                # print(f\"didn't find covariance for: factor 1: {factor1} factor2: {factor2}\")\n",
    "                num_not_found += 1\n",
    "                cov12 = 0\n",
    "            Fm[i, j] = cov12 * (0.01**2)    \n",
    "    # print(f'Found: {num_found}, Not Found: {num_not_found}')\n",
    "    return Fm\n",
    "\n",
    "Fcov = diagonal_factor_cov(date, B)\n",
    "Fcov"
   ]
  },
  {
   "cell_type": "markdown",
   "metadata": {},
   "source": [
    "## Transaction Cost\n",
    "\n",
    "Explicit cost such as commissions are far smaller than market impact.\n",
    "Define the transaction cost, or slippage, as to multiply the price change due to market impact by the amount of dollars traded.\n",
    "\n",
    "Here, use linear impact model because the slope is not available in public.\n",
    "Good estimate according the past researches is, each 1% of Average Daily Volume Traded moves the price by 10 basis point.\n",
    "\n",
    "$$\n",
    "\\mbox{tcost}_{i,t} = \\% \\Delta \\mbox{price}_{i,t} \\times \\mbox{trade}_{i,t} = (0.1 \\times (h_{i,t} - h_{i,t-1}) \\div \\mbox{ADV}_{i,t}) \\times (h_{i,t} - h_{i,t-1})\n",
    "$$\n",
    "\n",
    "that is,\n",
    "$$\n",
    "\\mbox{tcost}_{i,t} = \\sum_i^{N} \\lambda_{i,t} (h_{i,t} - h_{i,t-1})^2\n",
    "$$  \n",
    "where\n",
    "$$\n",
    "\\lambda_{i,t} = \\frac{1}{10\\times \\mbox{ADV}_{i,t}}\n",
    "$$\n",
    "\n",
    "When ADV is missing or zero, consider it to be a small number like 10,000 and highly illiquid.\n"
   ]
  },
  {
   "cell_type": "code",
   "execution_count": 33,
   "metadata": {
    "scrolled": true
   },
   "outputs": [
    {
     "data": {
      "text/plain": [
       "0        1.000000e-05\n",
       "1        1.000000e-05\n",
       "             ...     \n",
       "12391    8.186089e-09\n",
       "12422    7.648435e-08\n",
       "Name: ADTCA_30, Length: 2265, dtype: float64"
      ]
     },
     "execution_count": 33,
     "metadata": {},
     "output_type": "execute_result"
    }
   ],
   "source": [
    "def get_lambda(universe, composite_volume_column = 'ADTCA_30'):\n",
    "    universe.loc[np.isnan(universe[composite_volume_column]), composite_volume_column] = 1.0e4\n",
    "    universe.loc[universe[composite_volume_column] == 0, composite_volume_column] = 1.0e4 \n",
    "\n",
    "    adv = universe[composite_volume_column]\n",
    "    \n",
    "    return 0.1 / adv\n",
    "\n",
    "Lambda = get_lambda(universe)\n",
    "Lambda"
   ]
  },
  {
   "cell_type": "markdown",
   "metadata": {},
   "source": [
    "## Alpha Factor Exposure\n",
    "Factor exposures is in % change and assume 1 unit of factor exposure maps to 1 basis point of daily return because:\n",
    " -  1bps annualized = 1.0001**252 --> 2.55%\n",
    " - -1bps annualized = 9.9999**252 --> -2.49%\n",
    "That is, annualized spread of a +1bps and -1bps returns stock is 504bps, or a bout 5%."
   ]
  },
  {
   "cell_type": "code",
   "execution_count": 34,
   "metadata": {
    "scrolled": true
   },
   "outputs": [
    {
     "data": {
      "text/plain": [
       "DesignMatrix with shape (2265, 4)\n",
       "  USFASTD_1DREVRSL  USFASTD_EARNYILD  USFASTD_VALUE  USFASTD_SENTMT\n",
       "            -0.032            -0.298          0.644          -0.922\n",
       "            -0.059            -1.072         -0.646          -0.991\n",
       "             0.457            -0.060         -0.668          -0.092\n",
       "            -0.128            -0.681          0.028          -0.772\n",
       "             0.374             0.392         -0.735           0.489\n",
       "            -0.254             0.185          0.188           0.033\n",
       "            -0.317             0.748          2.049           0.628\n",
       "             0.157            -0.438         -0.449           0.631\n",
       "            -0.550            -0.691         -0.645           0.225\n",
       "            -0.169             0.038         -1.002           0.053\n",
       "            -1.019            -0.946         -0.588           1.371\n",
       "             0.334            -0.197         -0.465          -0.287\n",
       "             0.490             0.036         -0.370          -0.685\n",
       "            -0.169            -0.206         -1.332           0.628\n",
       "            -0.642             0.213         -0.208          -0.082\n",
       "            -0.609            -0.491         -0.429          -0.775\n",
       "            -0.098            -0.491         -0.437          -0.775\n",
       "            -0.230             0.367         -0.050           0.168\n",
       "            -0.175            -0.126         -0.483           0.110\n",
       "            -0.116             0.514          0.233          -0.348\n",
       "             0.701            -0.611         -0.782          -0.342\n",
       "            -0.249            -0.308         -0.934           0.030\n",
       "             0.735            -1.912          0.090           2.681\n",
       "            -0.007            -0.492         -1.112           0.238\n",
       "            -0.133            -0.393         -0.676          -0.205\n",
       "             0.639            -0.869         -0.347           2.628\n",
       "            -0.339             0.799          0.451           0.715\n",
       "            -2.745             0.799          0.456           0.715\n",
       "            -0.560             1.409         -0.473           0.339\n",
       "             0.166            -0.030         -0.361          -0.455\n",
       "  [2235 rows omitted]\n",
       "  Terms:\n",
       "    'USFASTD_1DREVRSL' (column 0)\n",
       "    'USFASTD_EARNYILD' (column 1)\n",
       "    'USFASTD_VALUE' (column 2)\n",
       "    'USFASTD_SENTMT' (column 3)\n",
       "  (to view full data, use np.asarray(this_obj))"
      ]
     },
     "execution_count": 34,
     "metadata": {},
     "output_type": "execute_result"
    }
   ],
   "source": [
    "B_alpha = get_B(alpha_factors, universe)\n",
    "B_alpha"
   ]
  },
  {
   "cell_type": "code",
   "execution_count": 35,
   "metadata": {},
   "outputs": [
    {
     "data": {
      "text/plain": [
       "array([-6.080e-05, -2.768e-04, -3.630e-05, ...,  1.900e-06,  1.679e-04,\n",
       "        3.930e-05])"
      ]
     },
     "execution_count": 35,
     "metadata": {},
     "output_type": "execute_result"
    }
   ],
   "source": [
    "def get_alpha_vec(B_alpha):\n",
    "    '''Returns Alpha Vector'''\n",
    "    scale = 1e-4    \n",
    "    \n",
    "    return scale * np.sum(B_alpha, axis=1)\n",
    "\n",
    "alpha_vec = get_alpha_vec(B_alpha)\n",
    "alpha_vec"
   ]
  },
  {
   "cell_type": "markdown",
   "metadata": {},
   "source": [
    "## Objective Function\n",
    "\n",
    "The objective function to minimize is (factor risk (Risk aversion * Common Risk) + idiosyncratic risk (Risk Aversion * Specific Risk) - expected portfolio return + transaction costs):\n",
    "\n",
    "$\n",
    "f(\\mathbf{h}) = \\frac{1}{2}\\kappa \\mathbf{h}_t^T\\mathbf{Q}^T\\mathbf{Q}\\mathbf{h}_t + \\frac{1}{2} \\kappa \\mathbf{h}_t^T \\mathbf{S} \\mathbf{h}_t - \\mathbf{\\alpha}^T \\mathbf{h}_t + (\\mathbf{h}_{t} - \\mathbf{h}_{t-1})^T \\mathbf{\\Lambda} (\\mathbf{h}_{t} - \\mathbf{h}_{t-1})\n",
    "$\n",
    " \n",
    "where $\\kappa$ is risk aversion factor, applied to any size metrics. (e.g. $GMV = \\sum_i^{N}(|\\mathbf{h}_i|)$ is a L1-norm)\n",
    "\n",
    "\n",
    "$\n",
    "Common\\textbf{ }Risk = \\frac{1}{2} \\mathbf{h}_t^T\\textbf{BFB}^T\\mathbf{h}_t\n",
    "$\n",
    "\n",
    "\n",
    "where, $\\textbf{B}$ is the risk factor exposures, $\\textbf{F}$ is the risk factor variance and $\\textbf{h}_t$ is the portfolio's holdings at time $t$.\n",
    "\n",
    "\n",
    "$\\textbf{B}$ is $N$ by $K$ matrix, $\\textbf{F}$ is $K$ by $K$ matrix and $\\textbf{B}^T$ is $K$ by $N$ matrix, resulting in $\\textbf{BFB}^T$ as a huge $N \\times N$ matrix (e.g. 2,000 assets $\\times$ 2,000 assets = 2 million)\n",
    "\n",
    "To avoid this, covert it to $\\textbf{Q}^T\\textbf{Q}$, by the following:\n",
    "\n",
    "\n",
    "\n",
    "$\\textbf{BFB}^T$ = $\\textbf{BGGB}^T$ = $\\textbf{Q}^T\\textbf{Q}$, where $\\textbf{Q} = \\textbf{GB}^T$. Then the resulting $\\textbf{Qh} = \\textbf{R}$, $\\textbf{Q}^T\\textbf{h}^T = \\textbf{R}^T$ are just $K$ by 1 vector and 1 by $K$ vector, respectively. Then,\n",
    "\n",
    "$\n",
    "Common\\textbf{ }Risk = \\frac{1}{2}\\mathbf{h}_t^T\\mathbf{Q}^T\\mathbf{Q}\\mathbf{h}_t \n",
    "$\n",
    "\n",
    "\n",
    "This model include aspects of Market neutral, Position Size, Portfolio Diversification without using Constraints, which is high in computational cost."
   ]
  },
  {
   "cell_type": "code",
   "execution_count": 36,
   "metadata": {},
   "outputs": [],
   "source": [
    "risk_aversion = 1.0e-6\n",
    "\n",
    "def get_Q(Fvar, BT):\n",
    "    return np.matmul(scipy.linalg.sqrtm(Fvar), BT)\n",
    "\n",
    "Q = get_Q(Fvar, BT)\n",
    "QT = Q.transpose()\n",
    "\n",
    "def get_obj_func(h0, risk_aversion, Q, specVar, alpha_vec, Lambda): \n",
    "    def obj_func(h):\n",
    "        f = 0.0\n",
    "        f += 0.5 * risk_aversion * np.sum(np.matmul(Q, h)**2)\n",
    "        f += 0.5 * risk_aversion * np.dot(h**2, specVar)\n",
    "        f -= np.dot(h, alpha_vec)\n",
    "        f += np.dot((h - h0)**2, Lambda)        \n",
    "        return f\n",
    "    \n",
    "    return obj_func"
   ]
  },
  {
   "cell_type": "markdown",
   "metadata": {},
   "source": [
    "## Gradient\n",
    "The gradient, or derivative of the objective function, with respect to the portfolio holdings h, is given by:  \n",
    "\n",
    "$$\n",
    "f'(\\mathbf{h}) = \\frac{1}{2}\\kappa (2\\mathbf{Q}^T\\mathbf{Qh}) + \\frac{1}{2}\\kappa (2\\mathbf{Sh}) - \\mathbf{\\alpha} + 2(\\mathbf{h}_{t} - \\mathbf{h}_{t-1}) \\mathbf{\\Lambda}\n",
    "$$"
   ]
  },
  {
   "cell_type": "code",
   "execution_count": 37,
   "metadata": {},
   "outputs": [],
   "source": [
    "def get_grad_func(h0, risk_aversion, Q, QT, specVar, alpha_vec, Lambda):\n",
    "    def grad_func(h):\n",
    "        result = risk_aversion * (np.matmul(QT, np.matmul(Q,h)) + (specVar * h) ) - alpha_vec + 2 * (h-h0) * Lambda\n",
    "        return (np.asarray(result))\n",
    "    \n",
    "    return grad_func"
   ]
  },
  {
   "cell_type": "markdown",
   "metadata": {},
   "source": [
    "## Optimize"
   ]
  },
  {
   "cell_type": "code",
   "execution_count": 38,
   "metadata": {},
   "outputs": [
    {
     "name": "stdout",
     "output_type": "stream",
     "text": [
      "2265\n"
     ]
    },
    {
     "data": {
      "text/plain": [
       "array([ -4.12382319, -22.2392698 ,   1.49472868, ..., 766.23935786,\n",
       "       511.48881572, 529.06617741])"
      ]
     },
     "execution_count": 38,
     "metadata": {},
     "output_type": "execute_result"
    }
   ],
   "source": [
    "def get_h_star(risk_aversion, Q, QT, specVar, alpha_vec, h0, Lambda):\n",
    "    \"\"\"\n",
    "    Optimize the objective function\n",
    "\n",
    "    Parameters\n",
    "    ----------        \n",
    "    risk_aversion : int or float \n",
    "        Trader's risk aversion\n",
    "        \n",
    "    Q : patsy.design_info.DesignMatrix \n",
    "        Q Matrix\n",
    "        \n",
    "    QT : patsy.design_info.DesignMatrix \n",
    "        Transpose of the Q Matrix\n",
    "        \n",
    "    specVar: Pandas Series \n",
    "        Specific Variance\n",
    "        \n",
    "    alpha_vec: patsy.design_info.DesignMatrix \n",
    "        alpha vector\n",
    "        \n",
    "    h0 : Pandas Series  \n",
    "        initial holdings\n",
    "        \n",
    "    Lambda : Pandas Series  \n",
    "        Lambda\n",
    "        \n",
    "    Returns\n",
    "    -------\n",
    "    optimizer_result[0]: Numpy ndarray \n",
    "        optimized holdings\n",
    "    \"\"\"\n",
    "    obj_func = get_obj_func(h0, risk_aversion, Q, specVar, alpha_vec, Lambda)\n",
    "    grad_func = get_grad_func(h0, risk_aversion, Q, QT, specVar, alpha_vec, Lambda)\n",
    "    \n",
    "    optimizer_result = scipy.optimize.fmin_l_bfgs_b(obj_func, h0, fprime=grad_func)\n",
    "    h1 = optimizer_result[0]\n",
    "    \n",
    "    return h1\n",
    "\n",
    "h_star = get_h_star(risk_aversion, Q, QT, specVar, alpha_vec, h0, Lambda)\n",
    "print(len(h_star))\n",
    "h_star"
   ]
  },
  {
   "cell_type": "code",
   "execution_count": 39,
   "metadata": {
    "scrolled": true
   },
   "outputs": [
    {
     "data": {
      "text/html": [
       "<div>\n",
       "<style scoped>\n",
       "    .dataframe tbody tr th:only-of-type {\n",
       "        vertical-align: middle;\n",
       "    }\n",
       "\n",
       "    .dataframe tbody tr th {\n",
       "        vertical-align: top;\n",
       "    }\n",
       "\n",
       "    .dataframe thead th {\n",
       "        text-align: right;\n",
       "    }\n",
       "</style>\n",
       "<table border=\"1\" class=\"dataframe\">\n",
       "  <thead>\n",
       "    <tr style=\"text-align: right;\">\n",
       "      <th></th>\n",
       "      <th>Barrid</th>\n",
       "      <th>h.opt</th>\n",
       "    </tr>\n",
       "  </thead>\n",
       "  <tbody>\n",
       "    <tr>\n",
       "      <th>0</th>\n",
       "      <td>USA0001</td>\n",
       "      <td>-4.123823</td>\n",
       "    </tr>\n",
       "    <tr>\n",
       "      <th>1</th>\n",
       "      <td>USA0011</td>\n",
       "      <td>-22.239270</td>\n",
       "    </tr>\n",
       "    <tr>\n",
       "      <th>...</th>\n",
       "      <td>...</td>\n",
       "      <td>...</td>\n",
       "    </tr>\n",
       "    <tr>\n",
       "      <th>12391</th>\n",
       "      <td>USAZXI1</td>\n",
       "      <td>511.488816</td>\n",
       "    </tr>\n",
       "    <tr>\n",
       "      <th>12422</th>\n",
       "      <td>USAZZ81</td>\n",
       "      <td>529.066177</td>\n",
       "    </tr>\n",
       "  </tbody>\n",
       "</table>\n",
       "<p>2265 rows × 2 columns</p>\n",
       "</div>"
      ],
      "text/plain": [
       "        Barrid       h.opt\n",
       "0      USA0001   -4.123823\n",
       "1      USA0011  -22.239270\n",
       "...        ...         ...\n",
       "12391  USAZXI1  511.488816\n",
       "12422  USAZZ81  529.066177\n",
       "\n",
       "[2265 rows x 2 columns]"
      ]
     },
     "execution_count": 39,
     "metadata": {},
     "output_type": "execute_result"
    }
   ],
   "source": [
    "opt_portfolio = pd.DataFrame(data = {\"Barrid\" : universe['Barrid'], \"h.opt\" : h_star})\n",
    "opt_portfolio"
   ]
  },
  {
   "cell_type": "markdown",
   "metadata": {},
   "source": [
    "## Risk Exposures\n",
    "$$\n",
    "Risk \\mbox{ } Exposures = \\textbf{B}_{risk}^T h_{t}\n",
    "$$"
   ]
  },
  {
   "cell_type": "code",
   "execution_count": 40,
   "metadata": {
    "scrolled": true
   },
   "outputs": [
    {
     "data": {
      "text/plain": [
       "USFASTD_AERODEF    -4085.335469\n",
       "USFASTD_AIRLINES    -894.645270\n",
       "                       ...     \n",
       "USFASTD_TRANSPRT   -1376.885901\n",
       "USFASTD_WIRELESS    4601.429421\n",
       "Length: 77, dtype: float64"
      ]
     },
     "execution_count": 40,
     "metadata": {},
     "output_type": "execute_result"
    }
   ],
   "source": [
    "def get_port_risk_exposures(B, BT, h_star):\n",
    "    \"\"\"\n",
    "    Calculate portfolio's Risk Exposure\n",
    "\n",
    "    Parameters\n",
    "    ----------\n",
    "    B : patsy.design_info.DesignMatrix \n",
    "        Matrix of Risk Factors\n",
    "        \n",
    "    BT : patsy.design_info.DesignMatrix \n",
    "        Transpose of Matrix of Risk Factors\n",
    "        \n",
    "    h_star: Numpy ndarray \n",
    "        optimized holdings\n",
    "        \n",
    "    Returns\n",
    "    -------\n",
    "    risk_exposures : Pandas Series\n",
    "        Risk Exposures\n",
    "    \"\"\"\n",
    "    return pd.Series(np.matmul(BT, h_star), index=colnames(B))\n",
    "\n",
    "portfolio_risk_exposures = get_port_risk_exposures(B, BT, h_star)\n",
    "portfolio_risk_exposures"
   ]
  },
  {
   "cell_type": "markdown",
   "metadata": {},
   "source": [
    "## Alpha Exposures\n",
    "$$\n",
    "Alpha \\mbox{ } Exposures = \\textbf{B}_{alpha}^T h_{t}\n",
    "$$"
   ]
  },
  {
   "cell_type": "code",
   "execution_count": 41,
   "metadata": {},
   "outputs": [
    {
     "data": {
      "text/plain": [
       "USFASTD_1DREVRSL    2.259360e+06\n",
       "USFASTD_EARNYILD    1.753336e+06\n",
       "USFASTD_VALUE       2.255301e+06\n",
       "USFASTD_SENTMT      1.271304e+06\n",
       "dtype: float64"
      ]
     },
     "execution_count": 41,
     "metadata": {},
     "output_type": "execute_result"
    }
   ],
   "source": [
    "def get_port_alpha_exposure(B_alpha, h_star):\n",
    "    \"\"\"\n",
    "    Calculate portfolio's Alpha Exposure\n",
    "\n",
    "    Parameters\n",
    "    ----------\n",
    "    B_alpha : patsy.design_info.DesignMatrix \n",
    "        Matrix of Alpha Factors\n",
    "        \n",
    "    h_star: Numpy ndarray \n",
    "        optimized holdings\n",
    "        \n",
    "    Returns\n",
    "    -------\n",
    "    alpha_exposures : Pandas Series\n",
    "        Alpha Exposures\n",
    "    \"\"\"\n",
    "    return pd.Series(np.matmul(B_alpha.transpose(), h_star), index = colnames(B_alpha))\n",
    "\n",
    "portfolio_alpha_exposure = get_port_alpha_exposure(B_alpha, h_star)\n",
    "portfolio_alpha_exposure"
   ]
  },
  {
   "cell_type": "markdown",
   "metadata": {},
   "source": [
    "## Transaction Cost\n",
    "Total transaction costs:\n",
    "$$\n",
    "Transaction \\mbox{ } Cost = \\sum_i^{N} \\lambda_{i} (h_{i,t} - h_{i,t-1})^2\n",
    "$$"
   ]
  },
  {
   "cell_type": "code",
   "execution_count": 42,
   "metadata": {},
   "outputs": [
    {
     "data": {
      "text/plain": [
       "104.87985013279145"
      ]
     },
     "execution_count": 42,
     "metadata": {},
     "output_type": "execute_result"
    }
   ],
   "source": [
    "def get_total_transaction_costs(h0, h_star, Lambda):\n",
    "    \"\"\"\n",
    "    Calculate Total Transaction Costs\n",
    "\n",
    "    Parameters\n",
    "    ----------\n",
    "    h0 : Pandas Series\n",
    "        initial holdings (before optimization)\n",
    "        \n",
    "    h_star: Numpy ndarray \n",
    "        optimized holdings\n",
    "        \n",
    "    Lambda : Pandas Series  \n",
    "        Lambda\n",
    "        \n",
    "    Returns\n",
    "    -------\n",
    "    total_transaction_costs : float\n",
    "        Total Transaction Costs\n",
    "    \"\"\"\n",
    "    return np.sum(np.dot((h_star - h0)**2, Lambda))\n",
    "\n",
    "total_transaction_costs = get_total_transaction_costs(h0, h_star, Lambda)\n",
    "total_transaction_costs"
   ]
  },
  {
   "cell_type": "markdown",
   "metadata": {},
   "source": [
    "## Pipeline"
   ]
  },
  {
   "cell_type": "code",
   "execution_count": 43,
   "metadata": {},
   "outputs": [],
   "source": [
    "def form_optimal_portfolio(df, previous, risk_aversion):\n",
    "    '''Returns the optimal portfolio, risk and alpha exposures and the total transaction cost'''\n",
    "    df = df.merge(previous, how = 'left', on = 'Barrid')\n",
    "    df = clean_nas(df)\n",
    "    df = impute_specrisk(df)\n",
    "  \n",
    "    universe = get_universe(df)\n",
    "    date = str(int(universe['DataDate'][1]))\n",
    "  \n",
    "    h0 = universe['h.opt.previous']\n",
    "  \n",
    "    B = get_B(risk_factors, universe)\n",
    "    BT = B.transpose()\n",
    "  \n",
    "    specVar = (0.01 * universe['SpecRisk']) ** 2\n",
    "    Fvar = get_F(date, B)\n",
    "    \n",
    "    B_alpha = get_B(alpha_factors, universe)\n",
    "    alpha_vec = get_alpha_vec(B_alpha)\n",
    "\n",
    "    Lambda = get_lambda(universe)\n",
    "\n",
    "    Q = get_Q(Fvar, BT)\n",
    "    QT = Q.transpose()\n",
    "    \n",
    "    h_star = get_h_star(risk_aversion, Q, QT, specVar, alpha_vec, h0, Lambda)\n",
    "    opt_portfolio = pd.DataFrame(data = {\"Barrid\" : universe['Barrid'], \"h.opt\" : h_star})\n",
    "    \n",
    "    portfolio_risk_exposures = get_port_risk_exposures(B, BT, h_star)\n",
    "    portfolio_alpha_exposure = get_port_alpha_exposure(B_alpha, h_star)\n",
    "    total_transaction_costs = get_total_transaction_costs(h0, h_star, Lambda)\n",
    "  \n",
    "    return {\n",
    "        \"opt.portfolio\" : opt_portfolio, \n",
    "        \"risk.exposures\" : portfolio_risk_exposures, \n",
    "        \"alpha.exposures\" : portfolio_alpha_exposure,\n",
    "        \"total.cost\" : total_transaction_costs}\n",
    "\n",
    "def build_tradelist(prev_holdings, opt_result):\n",
    "    '''Returns the trades on the day'''\n",
    "    tmp = prev_holdings.merge(opt_result['opt.portfolio'], how='outer', on = 'Barrid')\n",
    "    tmp['h.opt.previous'] = np.nan_to_num(tmp['h.opt.previous'])\n",
    "    tmp['h.opt'] = np.nan_to_num(tmp['h.opt'])\n",
    "    return tmp\n",
    "\n",
    "def convert_to_previous(result): \n",
    "    '''Save optimal holdings as previous optimal holdings'''\n",
    "    prev = result['opt.portfolio']\n",
    "    prev = prev.rename(index=str, columns={\"h.opt\": \"h.opt.previous\"}, copy=True, inplace=False)\n",
    "    return prev"
   ]
  },
  {
   "cell_type": "markdown",
   "metadata": {},
   "source": [
    "## Run the backtest\n",
    "Walk through each day, calculating the optimal portfolio holdings and trade list."
   ]
  },
  {
   "cell_type": "code",
   "execution_count": 44,
   "metadata": {},
   "outputs": [
    {
     "name": "stderr",
     "output_type": "stream",
     "text": [
      "Optimizing Portfolio: 100%|██████████| 252/252 [14:27<00:00,  3.44s/day]\n"
     ]
    }
   ],
   "source": [
    "trades = {}\n",
    "port = {}\n",
    "\n",
    "for dt in tqdm(test_dates, desc='Optimizing Portfolio', unit='day'):\n",
    "    date = dt.strftime('%Y%m%d')\n",
    "\n",
    "    result = form_optimal_portfolio(frames[date], previous_holdings, risk_aversion)\n",
    "    trades[date] = build_tradelist(previous_holdings, result)\n",
    "    port[date] = result\n",
    "    previous_holdings = convert_to_previous(result)"
   ]
  },
  {
   "cell_type": "markdown",
   "metadata": {},
   "source": [
    "## PnL Attribution\n",
    "Profit and Loss is the aggregate realized daily returns of the assets, weighted by the optimal portfolio holdings chosen, and summed up to get the portfolio's profit and loss.\n",
    "\n",
    "The PnL attributed to the alpha factors equals the factor returns times factor exposures for the alpha factors.  \n",
    "\n",
    "$$\n",
    "\\mbox{PnL}_{alpha}= f \\times b_{alpha}\n",
    "$$\n",
    "\n",
    "Similarly, the PnL attributed to the risk factors equals the factor returns times factor exposures of the risk factors.\n",
    "\n",
    "$$\n",
    "\\mbox{PnL}_{risk} = f \\times b_{risk}\n",
    "$$"
   ]
  },
  {
   "cell_type": "code",
   "execution_count": 47,
   "metadata": {
    "scrolled": true
   },
   "outputs": [
    {
     "data": {
      "text/html": [
       "<div>\n",
       "<style scoped>\n",
       "    .dataframe tbody tr th:only-of-type {\n",
       "        vertical-align: middle;\n",
       "    }\n",
       "\n",
       "    .dataframe tbody tr th {\n",
       "        vertical-align: top;\n",
       "    }\n",
       "\n",
       "    .dataframe thead th {\n",
       "        text-align: right;\n",
       "    }\n",
       "</style>\n",
       "<table border=\"1\" class=\"dataframe\">\n",
       "  <thead>\n",
       "    <tr style=\"text-align: right;\">\n",
       "      <th></th>\n",
       "      <th>daily.pnl</th>\n",
       "      <th>attribution.alpha.pnl</th>\n",
       "      <th>attribution.risk.pnl</th>\n",
       "      <th>attribution.cost</th>\n",
       "    </tr>\n",
       "  </thead>\n",
       "  <tbody>\n",
       "    <tr>\n",
       "      <th>2004-01-06</th>\n",
       "      <td>3174.324201</td>\n",
       "      <td>4833.757921</td>\n",
       "      <td>917.161320</td>\n",
       "      <td>-104.879850</td>\n",
       "    </tr>\n",
       "    <tr>\n",
       "      <th>2004-01-07</th>\n",
       "      <td>-1732.002038</td>\n",
       "      <td>379.321518</td>\n",
       "      <td>606.221940</td>\n",
       "      <td>-64.709849</td>\n",
       "    </tr>\n",
       "    <tr>\n",
       "      <th>...</th>\n",
       "      <td>...</td>\n",
       "      <td>...</td>\n",
       "      <td>...</td>\n",
       "      <td>...</td>\n",
       "    </tr>\n",
       "    <tr>\n",
       "      <th>2005-01-03</th>\n",
       "      <td>2791.035021</td>\n",
       "      <td>392.689931</td>\n",
       "      <td>-292.646378</td>\n",
       "      <td>-67.863961</td>\n",
       "    </tr>\n",
       "    <tr>\n",
       "      <th>2005-01-04</th>\n",
       "      <td>6460.645612</td>\n",
       "      <td>4157.621777</td>\n",
       "      <td>187.853181</td>\n",
       "      <td>-82.269614</td>\n",
       "    </tr>\n",
       "  </tbody>\n",
       "</table>\n",
       "<p>252 rows × 4 columns</p>\n",
       "</div>"
      ],
      "text/plain": [
       "              daily.pnl  attribution.alpha.pnl  attribution.risk.pnl  \\\n",
       "2004-01-06  3174.324201            4833.757921            917.161320   \n",
       "2004-01-07 -1732.002038             379.321518            606.221940   \n",
       "...                 ...                    ...                   ...   \n",
       "2005-01-03  2791.035021             392.689931           -292.646378   \n",
       "2005-01-04  6460.645612            4157.621777            187.853181   \n",
       "\n",
       "            attribution.cost  \n",
       "2004-01-06       -104.879850  \n",
       "2004-01-07        -64.709849  \n",
       "...                      ...  \n",
       "2005-01-03        -67.863961  \n",
       "2005-01-04        -82.269614  \n",
       "\n",
       "[252 rows x 4 columns]"
      ]
     },
     "execution_count": 47,
     "metadata": {},
     "output_type": "execute_result"
    }
   ],
   "source": [
    "def partial_dot_product(v, w):\n",
    "    '''Return sum of two Pandas Series for common indices.'''\n",
    "    common = v.index.intersection(w.index)\n",
    "    return np.sum(v[common] * w[common])\n",
    "\n",
    "def build_pnl_attribution(): \n",
    "    \n",
    "    df = pd.DataFrame(index = test_dates)\n",
    "    \n",
    "    for dt in test_dates:\n",
    "        date = dt.strftime('%Y%m%d')\n",
    "\n",
    "        p = port[date]\n",
    "        fr = facret[date]\n",
    "\n",
    "        mf = p['opt.portfolio'].merge(frames[date], how = 'left', on = \"Barrid\")\n",
    "        \n",
    "        mf['DlyReturn'] = wins(mf['DlyReturn'], -0.5, 0.5)\n",
    "        df.at[dt,\"daily.pnl\"] = np.sum(mf['h.opt'] * mf['DlyReturn'])\n",
    "        df.at[dt,\"attribution.alpha.pnl\"] = partial_dot_product(fr, p['alpha.exposures'])\n",
    "        df.at[dt,\"attribution.risk.pnl\"] = partial_dot_product(fr, p['risk.exposures']) \n",
    "        df.at[dt,\"attribution.cost\"] = p['total.cost'] * -1\n",
    "        \n",
    "    return df \n",
    "\n",
    "attr = build_pnl_attribution()\n",
    "attr"
   ]
  },
  {
   "cell_type": "code",
   "execution_count": 48,
   "metadata": {},
   "outputs": [
    {
     "data": {
      "image/png": "[encoded data removed]",
      "text/plain": [
       "<matplotlib.figure.Figure at 0x7ff87083e400>"
      ]
     },
     "metadata": {
      "needs_background": "light"
     },
     "output_type": "display_data"
    }
   ],
   "source": [
    "# Plot\n",
    "plt.figure(figsize=(15,7))\n",
    "for column in attr.columns:\n",
    "        plt.plot(attr[column].cumsum(), label=column)\n",
    "plt.legend(loc='upper left')\n",
    "plt.xlabel('Date')\n",
    "plt.ylabel('PnL Attribution')\n",
    "plt.show()"
   ]
  },
  {
   "cell_type": "markdown",
   "metadata": {},
   "source": [
    "## Build portfolio characteristics\n",
    "Calculate the sum of long positions, short positions, net positions, gross market value, and amount of dollars traded."
   ]
  },
  {
   "cell_type": "code",
   "execution_count": 50,
   "metadata": {
    "scrolled": true
   },
   "outputs": [
    {
     "data": {
      "text/html": [
       "<div>\n",
       "<style scoped>\n",
       "    .dataframe tbody tr th:only-of-type {\n",
       "        vertical-align: middle;\n",
       "    }\n",
       "\n",
       "    .dataframe tbody tr th {\n",
       "        vertical-align: top;\n",
       "    }\n",
       "\n",
       "    .dataframe thead th {\n",
       "        text-align: right;\n",
       "    }\n",
       "</style>\n",
       "<table border=\"1\" class=\"dataframe\">\n",
       "  <thead>\n",
       "    <tr style=\"text-align: right;\">\n",
       "      <th></th>\n",
       "      <th>long</th>\n",
       "      <th>short</th>\n",
       "      <th>net</th>\n",
       "      <th>gmv</th>\n",
       "      <th>traded</th>\n",
       "    </tr>\n",
       "  </thead>\n",
       "  <tbody>\n",
       "    <tr>\n",
       "      <th>2004-01-06</th>\n",
       "      <td>1.963969e+06</td>\n",
       "      <td>-1.964191e+06</td>\n",
       "      <td>-222.102095</td>\n",
       "      <td>3.928160e+06</td>\n",
       "      <td>3.928160e+06</td>\n",
       "    </tr>\n",
       "    <tr>\n",
       "      <th>2004-01-07</th>\n",
       "      <td>2.243385e+06</td>\n",
       "      <td>-2.228708e+06</td>\n",
       "      <td>14677.256490</td>\n",
       "      <td>4.472092e+06</td>\n",
       "      <td>3.115569e+06</td>\n",
       "    </tr>\n",
       "    <tr>\n",
       "      <th>...</th>\n",
       "      <td>...</td>\n",
       "      <td>...</td>\n",
       "      <td>...</td>\n",
       "      <td>...</td>\n",
       "      <td>...</td>\n",
       "    </tr>\n",
       "    <tr>\n",
       "      <th>2005-01-03</th>\n",
       "      <td>3.981829e+06</td>\n",
       "      <td>-3.974177e+06</td>\n",
       "      <td>7651.463971</td>\n",
       "      <td>7.956006e+06</td>\n",
       "      <td>3.755669e+06</td>\n",
       "    </tr>\n",
       "    <tr>\n",
       "      <th>2005-01-04</th>\n",
       "      <td>4.336192e+06</td>\n",
       "      <td>-4.298752e+06</td>\n",
       "      <td>37439.836894</td>\n",
       "      <td>8.634945e+06</td>\n",
       "      <td>4.069164e+06</td>\n",
       "    </tr>\n",
       "  </tbody>\n",
       "</table>\n",
       "<p>252 rows × 5 columns</p>\n",
       "</div>"
      ],
      "text/plain": [
       "                    long         short           net           gmv  \\\n",
       "2004-01-06  1.963969e+06 -1.964191e+06   -222.102095  3.928160e+06   \n",
       "2004-01-07  2.243385e+06 -2.228708e+06  14677.256490  4.472092e+06   \n",
       "...                  ...           ...           ...           ...   \n",
       "2005-01-03  3.981829e+06 -3.974177e+06   7651.463971  7.956006e+06   \n",
       "2005-01-04  4.336192e+06 -4.298752e+06  37439.836894  8.634945e+06   \n",
       "\n",
       "                  traded  \n",
       "2004-01-06  3.928160e+06  \n",
       "2004-01-07  3.115569e+06  \n",
       "...                  ...  \n",
       "2005-01-03  3.755669e+06  \n",
       "2005-01-04  4.069164e+06  \n",
       "\n",
       "[252 rows x 5 columns]"
      ]
     },
     "execution_count": 50,
     "metadata": {},
     "output_type": "execute_result"
    }
   ],
   "source": [
    "def build_portfolio_characteristics(): \n",
    "    df = pd.DataFrame(index = test_dates)\n",
    "    \n",
    "    for dt in test_dates:\n",
    "        date = dt.strftime('%Y%m%d')\n",
    "  \n",
    "        p = port[date]\n",
    "        tradelist = trades[date]\n",
    "        h = p['opt.portfolio']['h.opt']\n",
    "        \n",
    "        df.at[dt,\"long\"] = np.sum(h[h>0])\n",
    "        df.at[dt,\"short\"] = np.sum(h[h<0])\n",
    "        df.at[dt,\"net\"] = np.sum(h)\n",
    "        df.at[dt,\"gmv\"] = np.sum(np.abs(h))\n",
    "        df.at[dt,\"traded\"] = np.sum(abs(tradelist['h.opt'] - tradelist['h.opt.previous']))\n",
    "        \n",
    "    return df\n",
    "\n",
    "pchar = build_portfolio_characteristics()\n",
    "pchar"
   ]
  },
  {
   "cell_type": "code",
   "execution_count": 51,
   "metadata": {},
   "outputs": [
    {
     "data": {
      "image/png": "[encoded data removed]",
      "text/plain": [
       "<matplotlib.figure.Figure at 0x7ff880755fd0>"
      ]
     },
     "metadata": {
      "needs_background": "light"
     },
     "output_type": "display_data"
    }
   ],
   "source": [
    "# Plot\n",
    "plt.figure(figsize=(15,7))\n",
    "for column in pchar.columns:\n",
    "        plt.plot(pchar[column], label=column)\n",
    "plt.legend(loc='upper left')\n",
    "plt.xlabel('Date')\n",
    "plt.ylabel('Portfolio')\n",
    "plt.show()"
   ]
  },
  {
   "cell_type": "markdown",
   "metadata": {},
   "source": [
    "## Further consideration...\n",
    "This is just a view on how the alpha would perform. To do full backtest, need to consider the followings.\n",
    "#### Extract sentiment\n",
    "The idea is to use alternative data for alpha. To include sentiments from textual data, the data access is required. Twitter and Stockswit does not provide free access to get massive historial tweets. Financial news website also have limitations to download reasonable dataset by scraping. Financial Statement and Earnings Calls can be used but they are less frequent.\n",
    "\n",
    "#### Market data and factors\n",
    "The latest stock price data can be accessed via providers like Quandle but the use is limited. Realistically commercial factor data should be used for backtest but such data are not available for personal use at a reasonable cost. Furthermore, asset pricing other than stocks such as bonds are not always available - only EOD price for government bonds is accessible.\n",
    "\n",
    "#### Comutational resource\n",
    "The dataset is large (~TB). Running optimizations including machine learning on daily basis for hundreds of days are very expensitve and time consuming. Need to consider how to split workers to have parallel processing."
   ]
  },
  {
   "cell_type": "code",
   "execution_count": null,
   "metadata": {},
   "outputs": [],
   "source": []
  }
 ],
 "metadata": {
  "kernelspec": {
   "display_name": "Python 3",
   "language": "python",
   "name": "python3"
  },
  "language_info": {
   "codemirror_mode": {
    "name": "ipython",
    "version": 3
   },
   "file_extension": ".py",
   "mimetype": "text/x-python",
   "name": "python",
   "nbconvert_exporter": "python",
   "pygments_lexer": "ipython3",
   "version": "3.6.10"
  }
 },
 "nbformat": 4,
 "nbformat_minor": 4
}
